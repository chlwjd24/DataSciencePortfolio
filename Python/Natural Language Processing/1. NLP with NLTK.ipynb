{
 "cells": [
  {
   "cell_type": "markdown",
   "metadata": {},
   "source": [
    "Task 1"
   ]
  },
  {
   "cell_type": "code",
   "execution_count": 1,
   "metadata": {},
   "outputs": [],
   "source": [
    "import tweepy\n",
    "import pandas as pd\n"
   ]
  },
  {
   "cell_type": "code",
   "execution_count": 2,
   "metadata": {},
   "outputs": [],
   "source": [
    "user1ID = 'ScottMorrisonMP'\n",
    "user2ID = \"PeterDutton_MP\"\n",
    "\n",
    "auth = tweepy.OAuthHandler('5rNNVu8ngWdWaKGHnWUZe95iC', 'umncxfufMvk3TP7gwGAlsv6PCbjDnCAhdJ5TkPw28zgbE8tD9E')\n",
    "auth.set_access_token('780315659934785536-GgafO4eESW0klRGTUpk6CjOWlI5IJ4Q', 'cMSul3hefEviIQY8ZT7KoMN2M7wUl0KWB90ptpOhmJdfm')\n",
    "api = tweepy.API(auth)\n",
    "\n"
   ]
  },
  {
   "cell_type": "code",
   "execution_count": 3,
   "metadata": {},
   "outputs": [
    {
     "name": "stdout",
     "output_type": "stream",
     "text": [
      "Authentication OK.\n"
     ]
    }
   ],
   "source": [
    "try:\n",
    "    user = api.verify_credentials()\n",
    "    print('Authentication OK.')\n",
    "except:\n",
    "    print('Error during authentication.')"
   ]
  },
  {
   "cell_type": "code",
   "execution_count": 4,
   "metadata": {},
   "outputs": [],
   "source": [
    "tweets = api.user_timeline(screen_name=user1ID, count=200,include_rts = False, tweet_mode = 'extended')\n",
    "tweets2 = api.user_timeline(screen_name=user2ID, count=200,include_rts = False,tweet_mode = 'extended')"
   ]
  },
  {
   "cell_type": "code",
   "execution_count": 5,
   "metadata": {},
   "outputs": [],
   "source": [
    "user1Tweets = []\n",
    "user2Tweets = []\n"
   ]
  },
  {
   "cell_type": "code",
   "execution_count": 6,
   "metadata": {},
   "outputs": [],
   "source": [
    "for tweet in tweets:\n",
    "    user1Tweets.append([tweet.user.name, tweet.full_text, pd.to_datetime(tweet.created_at).time().replace(microsecond=0, second=0, minute=0)])\n",
    "for tweet in tweets2:\n",
    "    user2Tweets.append([tweet.user.name, tweet.full_text, pd.to_datetime(tweet.created_at).time().replace(microsecond=0, second=0, minute=0)])\n"
   ]
  },
  {
   "cell_type": "code",
   "execution_count": 7,
   "metadata": {},
   "outputs": [],
   "source": [
    "user1Tweets = pd.DataFrame(user1Tweets)\n",
    "user2Tweets = pd.DataFrame(user2Tweets)"
   ]
  },
  {
   "cell_type": "code",
   "execution_count": 8,
   "metadata": {},
   "outputs": [],
   "source": [
    "all_tweets = user1Tweets.append(user2Tweets)"
   ]
  },
  {
   "cell_type": "code",
   "execution_count": 9,
   "metadata": {},
   "outputs": [],
   "source": [
    "data = pd.DataFrame({'name':all_tweets[0], 'text': all_tweets[1], 'created_at': all_tweets[2]})"
   ]
  },
  {
   "cell_type": "markdown",
   "metadata": {},
   "source": [
    "Task 2"
   ]
  },
  {
   "cell_type": "code",
   "execution_count": 11,
   "metadata": {},
   "outputs": [],
   "source": [
    "grouped_by_time = data.groupby('created_at')['name'].value_counts()"
   ]
  },
  {
   "cell_type": "code",
   "execution_count": 12,
   "metadata": {},
   "outputs": [
    {
     "data": {
      "text/plain": [
       "<AxesSubplot:xlabel='name'>"
      ]
     },
     "execution_count": 12,
     "metadata": {},
     "output_type": "execute_result"
    },
    {
     "data": {
      "image/png": "[encoded data removed]",
      "text/plain": [
       "<Figure size 432x288 with 1 Axes>"
      ]
     },
     "metadata": {
      "needs_background": "light"
     },
     "output_type": "display_data"
    }
   ],
   "source": [
    "grouped_by_time.unstack(0).plot.bar()"
   ]
  },
  {
   "cell_type": "markdown",
   "metadata": {},
   "source": [
    "Task 3"
   ]
  },
  {
   "cell_type": "code",
   "execution_count": 28,
   "metadata": {},
   "outputs": [
    {
     "data": {
      "text/plain": [
       "<Figure size 1440x1440 with 0 Axes>"
      ]
     },
     "metadata": {},
     "output_type": "display_data"
    },
    {
     "data": {
      "image/png": "[encoded data removed]",
      "text/plain": [
       "<Figure size 432x288 with 1 Axes>"
      ]
     },
     "metadata": {
      "needs_background": "light"
     },
     "output_type": "display_data"
    }
   ],
   "source": [
    "import matplotlib.pyplot as plt\n",
    "\n",
    "user1Tweets = []\n",
    "user2Tweets = []\n",
    "for tweet in tweets:\n",
    "    user1Tweets.append([tweet.user.name, tweet.full_text, pd.to_datetime(tweet.created_at).time().replace(microsecond=0, second=0, minute=0), 'Yes' if len(tweet.entities['urls']) > 0 else 'No'])\n",
    "for tweet in tweets2:\n",
    "    user2Tweets.append([tweet.user.name, tweet.full_text, pd.to_datetime(tweet.created_at).time().replace(microsecond=0, second=0, minute=0), 'Yes' if len(tweet.entities['urls']) > 0 else 'No'])\n",
    "user1Tweets = pd.DataFrame(user1Tweets)\n",
    "user2Tweets = pd.DataFrame(user2Tweets)\n",
    "all_tweets = user1Tweets.append(user2Tweets)\n",
    "data = pd.DataFrame({'name':all_tweets[0], 'text': all_tweets[1], 'created_at': all_tweets[2], 'has_link_or_picture':all_tweets[3]})\n",
    "grouped_by_picOrLink = data.groupby('has_link_or_picture')['name'].value_counts()\n",
    "plt.figure(figsize=(20, 20))\n",
    "ax = grouped_by_picOrLink.unstack(0).plot(kind='bar', rot=0)\n",
    "ax.set_title(\"Proportions of tweets with links or pictures\", y = 1)\n",
    "ax.set_xlabel('User')\n",
    "ax.set_ylabel('Count')\n",
    "plt.legend(loc=\"upper right\")\n",
    "for rect in ax.patches:\n",
    "    y_value = rect.get_height()\n",
    "    x_value = rect.get_x() + rect.get_width() / 2\n",
    "    space = 1\n",
    "    label = \"{:.0f}\".format(y_value)\n",
    "    ax.annotate(label, (x_value, y_value), xytext=(0, space), textcoords=\"offset points\", ha='center', va='bottom')\n",
    "\n",
    "plt.show()"
   ]
  },
  {
   "cell_type": "markdown",
   "metadata": {},
   "source": [
    "Task 4"
   ]
  },
  {
   "cell_type": "code",
   "execution_count": 68,
   "metadata": {},
   "outputs": [],
   "source": [
    "import numpy as np\n",
    "def getHashtags(text):\n",
    "    tags = []\n",
    "    for word in text.split():\n",
    "        if word[0] == '#':\n",
    "            tags.append(word[1:])\n",
    "    return ', '.join(tags) if len(tags) > 0 else np.nan"
   ]
  },
  {
   "cell_type": "code",
   "execution_count": 69,
   "metadata": {},
   "outputs": [],
   "source": [
    "data['hashtags'] = data.apply(lambda x:getHashtags(x['text']), axis=1)"
   ]
  },
  {
   "cell_type": "code",
   "execution_count": 70,
   "metadata": {},
   "outputs": [
    {
     "data": {
      "text/plain": [
       "hashtags                               name          \n",
       "ASEAN                                  Peter Dutton      1\n",
       "AUKMIN                                 Peter Dutton      1\n",
       "AUKUS                                  Scott Morrison    4\n",
       "                                       Peter Dutton      1\n",
       "AUKUS, AUKUS                           Scott Morrison    1\n",
       "AUKUS, UnbreakableAlliance             Peter Dutton      1\n",
       "AnzacDay                               Scott Morrison    1\n",
       "AusOfTheYear.                          Scott Morrison    1\n",
       "AustraliaDay, RepublicDayIndia, dosti  Scott Morrison    1\n",
       "Budget22                               Scott Morrison    5\n",
       "                                       Peter Dutton      1\n",
       "COP26                                  Scott Morrison    1\n",
       "COP26.                                 Scott Morrison    1\n",
       "COVID19                                Scott Morrison    1\n",
       "COVID19.                               Scott Morrison    1\n",
       "COVID19Aus                             Scott Morrison    5\n",
       "COVIDAus                               Scott Morrison    1\n",
       "DayforDaniel.                          Peter Dutton      1\n",
       "DogsInPoliticsDay                      Peter Dutton      1\n",
       "FPDA50                                 Peter Dutton      1\n",
       "PlayitFairOnline., SID2022             Peter Dutton      1\n",
       "Ramadan                                Scott Morrison    1\n",
       "RedcliffeDolphins                      Peter Dutton      1\n",
       "Wimbledon                              Scott Morrison    1\n",
       "WinterParalympics,                     Scott Morrison    1\n",
       "bartyparty                             Scott Morrison    1\n",
       "dosti, diaspora                        Scott Morrison    1\n",
       "inspiringAussie                        Peter Dutton      1\n",
       "vuvale                                 Scott Morrison    1\n",
       "Name: name, dtype: int64"
      ]
     },
     "execution_count": 70,
     "metadata": {},
     "output_type": "execute_result"
    }
   ],
   "source": [
    "data.groupby('hashtags')['name'].value_counts()"
   ]
  },
  {
   "cell_type": "code",
   "execution_count": 47,
   "metadata": {},
   "outputs": [],
   "source": [
    "from collections import Counter\n",
    "data.dropna(axis=0, inplace=True)\n",
    "\n",
    "scott = data[data['name'] == 'Scott Morrison']\n",
    "scott_tags = Counter(scott['hashtags'])\n",
    "\n",
    "\n",
    "peter = data[data['name'] == 'Peter Dutton']\n",
    "peter_tags = Counter(peter['hashtags'])"
   ]
  },
  {
   "cell_type": "code",
   "execution_count": 88,
   "metadata": {},
   "outputs": [
    {
     "data": {
      "text/plain": [
       "([0, 1, 2, 3, 4, 5, 6, 7, 8, 9, 10],\n",
       " [Text(0, 0, ''),\n",
       "  Text(0, 0, ''),\n",
       "  Text(0, 0, ''),\n",
       "  Text(0, 0, ''),\n",
       "  Text(0, 0, ''),\n",
       "  Text(0, 0, ''),\n",
       "  Text(0, 0, ''),\n",
       "  Text(0, 0, ''),\n",
       "  Text(0, 0, ''),\n",
       "  Text(0, 0, ''),\n",
       "  Text(0, 0, '')])"
      ]
     },
     "execution_count": 88,
     "metadata": {},
     "output_type": "execute_result"
    },
    {
     "data": {
      "image/png": "[encoded data removed]",
      "text/plain": [
       "<Figure size 432x288 with 1 Axes>"
      ]
     },
     "metadata": {
      "needs_background": "light"
     },
     "output_type": "display_data"
    }
   ],
   "source": [
    "plt.bar(peter_tags.keys(), peter_tags.values())\n",
    "plt.xticks(rotation=90)"
   ]
  },
  {
   "cell_type": "code",
   "execution_count": 241,
   "metadata": {},
   "outputs": [
    {
     "data": {
      "text/plain": [
       "Counter({'inspiringAussie': 1,\n",
       "         'Budget22': 1,\n",
       "         'PlayitFairOnline., SID2022': 1,\n",
       "         'AUKUS, UnbreakableAlliance': 1,\n",
       "         'AUKMIN': 1,\n",
       "         'ASEAN': 1,\n",
       "         'AUKUS': 1,\n",
       "         'DayforDaniel.': 1,\n",
       "         'FPDA50': 1,\n",
       "         'RedcliffeDolphins': 1,\n",
       "         'DogsInPoliticsDay': 1})"
      ]
     },
     "execution_count": 241,
     "metadata": {},
     "output_type": "execute_result"
    }
   ],
   "source": [
    "peter_tags"
   ]
  },
  {
   "cell_type": "code",
   "execution_count": 89,
   "metadata": {},
   "outputs": [
    {
     "data": {
      "text/plain": [
       "([0, 1, 2, 3, 4, 5, 6, 7, 8, 9, 10, 11, 12, 13, 14, 15, 16, 17],\n",
       " [Text(0, 0, ''),\n",
       "  Text(0, 0, ''),\n",
       "  Text(0, 0, ''),\n",
       "  Text(0, 0, ''),\n",
       "  Text(0, 0, ''),\n",
       "  Text(0, 0, ''),\n",
       "  Text(0, 0, ''),\n",
       "  Text(0, 0, ''),\n",
       "  Text(0, 0, ''),\n",
       "  Text(0, 0, ''),\n",
       "  Text(0, 0, ''),\n",
       "  Text(0, 0, ''),\n",
       "  Text(0, 0, ''),\n",
       "  Text(0, 0, ''),\n",
       "  Text(0, 0, ''),\n",
       "  Text(0, 0, ''),\n",
       "  Text(0, 0, ''),\n",
       "  Text(0, 0, '')])"
      ]
     },
     "execution_count": 89,
     "metadata": {},
     "output_type": "execute_result"
    },
    {
     "data": {
      "image/png": "[encoded data removed]",
      "text/plain": [
       "<Figure size 432x288 with 1 Axes>"
      ]
     },
     "metadata": {
      "needs_background": "light"
     },
     "output_type": "display_data"
    }
   ],
   "source": [
    "plt.bar(scott_tags.keys(), scott_tags.values())\n",
    "plt.xticks(rotation=90)\n"
   ]
  },
  {
   "cell_type": "markdown",
   "metadata": {},
   "source": [
    "Task 5"
   ]
  },
  {
   "cell_type": "code",
   "execution_count": 211,
   "metadata": {},
   "outputs": [
    {
     "name": "stderr",
     "output_type": "stream",
     "text": [
      "[nltk_data] Downloading package words to\n",
      "[nltk_data]     C:\\Users\\Danis\\AppData\\Roaming\\nltk_data...\n",
      "[nltk_data]   Package words is already up-to-date!\n"
     ]
    }
   ],
   "source": [
    "import pandas as pd\n",
    "import re\n",
    "import emoji\n",
    "import nltk\n",
    "from nltk import FreqDist\n",
    "from nltk.corpus import stopwords\n",
    "from nltk.tokenize import word_tokenize\n",
    "\n",
    "nltk.download('words')\n",
    "words = set(nltk.corpus.words.words())\n",
    "\n",
    "def cleaner(tweet):\n",
    "    tweet = re.sub(\"(@[A-Za-z0–9_]+)|[^\\w\\s]|#|http\\S+\",\"\",tweet) #Remove @ sign\n",
    "    tweet = re.sub(r\"(?:\\@|http?\\://|https?\\://|www)\\S+\", \"\", tweet) #Remove http links\n",
    "    tweet = \" \".join(tweet.split())\n",
    "    tweet = tweet.replace(\"#\", \"\").replace(\"_\", \" \") #Remove hashtag sign but keep the text\n",
    "    tweet = \" \".join(w for w in nltk.wordpunct_tokenize(tweet) \\\n",
    "         if w.lower() in words or not w.isalpha())\n",
    "    return tweet\n",
    "\n",
    "def getTokens(tweet):\n",
    "     return word_tokenize(tweet)\n"
   ]
  },
  {
   "cell_type": "code",
   "execution_count": 212,
   "metadata": {},
   "outputs": [
    {
     "name": "stderr",
     "output_type": "stream",
     "text": [
      "<ipython-input-212-7d28e16df904>:2: SettingWithCopyWarning: \n",
      "A value is trying to be set on a copy of a slice from a DataFrame.\n",
      "Try using .loc[row_indexer,col_indexer] = value instead\n",
      "\n",
      "See the caveats in the documentation: https://pandas.pydata.org/pandas-docs/stable/user_guide/indexing.html#returning-a-view-versus-a-copy\n",
      "  scott_clean['text_clean'] = scott_clean.apply(lambda x: cleaner(x['text']), axis=1)\n"
     ]
    }
   ],
   "source": [
    "scott_clean = data[data['name'] == 'Scott Morrison']\n",
    "scott_clean['text_clean'] = scott_clean.apply(lambda x: cleaner(x['text']), axis=1)"
   ]
  },
  {
   "cell_type": "code",
   "execution_count": 184,
   "metadata": {},
   "outputs": [],
   "source": [
    "def getWords(x):\n",
    "    words_clean = []\n",
    "    for w in x.split(' '):\n",
    "        if w not in words:\n",
    "            words_clean.append(w)\n",
    "    return ', '.join(words_clean)"
   ]
  },
  {
   "cell_type": "code",
   "execution_count": 227,
   "metadata": {},
   "outputs": [],
   "source": [
    "from nltk.probability import FreqDist\n",
    "all_words_scott = []\n",
    "for index, row in scott_clean.iterrows():\n",
    "    for w in row['text_clean'].split(' '):\n",
    "        if w not in words:\n",
    "            all_words_scott.append(w)\n",
    "fdist_scott = FreqDist(all_words_scott).most_common(20)\n",
    "all_fdist = pd.Series(dict(fdist_scott))\n"
   ]
  },
  {
   "cell_type": "code",
   "execution_count": 245,
   "metadata": {},
   "outputs": [
    {
     "data": {
      "text/plain": [
       "<AxesSubplot:>"
      ]
     },
     "execution_count": 245,
     "metadata": {},
     "output_type": "execute_result"
    },
    {
     "data": {
      "image/png": "[encoded data removed]",
      "text/plain": [
       "<Figure size 432x288 with 1 Axes>"
      ]
     },
     "metadata": {
      "needs_background": "light"
     },
     "output_type": "display_data"
    }
   ],
   "source": [
    "all_fdist.plot(kind='bar')"
   ]
  },
  {
   "cell_type": "code",
   "execution_count": 246,
   "metadata": {},
   "outputs": [
    {
     "name": "stderr",
     "output_type": "stream",
     "text": [
      "<ipython-input-246-77f54f197c6f>:3: SettingWithCopyWarning: \n",
      "A value is trying to be set on a copy of a slice from a DataFrame.\n",
      "Try using .loc[row_indexer,col_indexer] = value instead\n",
      "\n",
      "See the caveats in the documentation: https://pandas.pydata.org/pandas-docs/stable/user_guide/indexing.html#returning-a-view-versus-a-copy\n",
      "  pete_clean['text_clean'] = pete_clean.apply(lambda x: cleaner(x['text']), axis=1)\n"
     ]
    },
    {
     "data": {
      "text/plain": [
       "<AxesSubplot:>"
      ]
     },
     "execution_count": 246,
     "metadata": {},
     "output_type": "execute_result"
    },
    {
     "data": {
      "image/png": "[encoded data removed]",
      "text/plain": [
       "<Figure size 432x288 with 1 Axes>"
      ]
     },
     "metadata": {
      "needs_background": "light"
     },
     "output_type": "display_data"
    }
   ],
   "source": [
    "from nltk.probability import FreqDist\n",
    "pete_clean = data[data['name'] == 'Peter Dutton']\n",
    "pete_clean['text_clean'] = pete_clean.apply(lambda x: cleaner(x['text']), axis=1)\n",
    "\n",
    "all_words_pete = []\n",
    "for index, row in pete_clean.iterrows():\n",
    "    for w in row['text_clean'].split(' '):\n",
    "        if w not in words:\n",
    "            all_words_pete.append(w)\n",
    "fdist = FreqDist(all_words_pete).most_common(20)\n",
    "fdist = pd.Series(dict(fdist))\n",
    "fdist.plot(kind='bar')"
   ]
  },
  {
   "cell_type": "markdown",
   "metadata": {},
   "source": [
    "Task 6"
   ]
  },
  {
   "cell_type": "code",
   "execution_count": 124,
   "metadata": {},
   "outputs": [],
   "source": [
    "from vaderSentiment.vaderSentiment import SentimentIntensityAnalyzer\n",
    "\n",
    "user1Sentences = []\n",
    "user2Sentences = []\n",
    "\n",
    "for tweet in tweets:\n",
    "    user1Sentences.append(tweet.full_text)\n",
    "for tweet in tweets2:\n",
    "    user2Sentences.append(tweet.full_text)\n"
   ]
  },
  {
   "cell_type": "code",
   "execution_count": 145,
   "metadata": {},
   "outputs": [],
   "source": [
    "analyzer = SentimentIntensityAnalyzer()\n",
    "user1Sentiments = []\n",
    "user2Sentiments = []\n",
    "\n",
    "for sentence in user1Sentences:\n",
    "    vs = analyzer.polarity_scores(sentence)\n",
    "    user1Sentiments.append([sentence, vs['neg'], vs['neu'], vs['pos'], vs['compound']])\n",
    "\n",
    "for sentence in user2Sentences:\n",
    "    vs = analyzer.polarity_scores(sentence)\n",
    "    user2Sentiments.append([sentence, vs['neg'], vs['neu'], vs['pos'], vs['compound']])\n",
    "\n"
   ]
  },
  {
   "cell_type": "code",
   "execution_count": 146,
   "metadata": {},
   "outputs": [],
   "source": [
    "user1Sentiments = pd.DataFrame(user1Sentiments)\n",
    "user1Sentiments = pd.DataFrame({'text':user1Sentiments[0], 'neg': user1Sentiments[1], 'neu': user1Sentiments[2], 'pos':user1Sentiments[3], 'compound':user1Sentiments[4]})\n",
    "user2Sentiments = pd.DataFrame(user2Sentiments)\n",
    "user2Sentiments = pd.DataFrame({'text':user2Sentiments[0], 'neg': user2Sentiments[1], 'neu': user2Sentiments[2], 'pos':user2Sentiments[3], 'compound':user2Sentiments[4]})"
   ]
  },
  {
   "cell_type": "code",
   "execution_count": 152,
   "metadata": {},
   "outputs": [
    {
     "data": {
      "text/html": [
       "<div>\n",
       "<style scoped>\n",
       "    .dataframe tbody tr th:only-of-type {\n",
       "        vertical-align: middle;\n",
       "    }\n",
       "\n",
       "    .dataframe tbody tr th {\n",
       "        vertical-align: top;\n",
       "    }\n",
       "\n",
       "    .dataframe thead th {\n",
       "        text-align: right;\n",
       "    }\n",
       "</style>\n",
       "<table border=\"1\" class=\"dataframe\">\n",
       "  <thead>\n",
       "    <tr style=\"text-align: right;\">\n",
       "      <th></th>\n",
       "      <th>text</th>\n",
       "      <th>neg</th>\n",
       "      <th>neu</th>\n",
       "      <th>pos</th>\n",
       "      <th>compound</th>\n",
       "    </tr>\n",
       "  </thead>\n",
       "  <tbody>\n",
       "    <tr>\n",
       "      <th>0</th>\n",
       "      <td>Happy Election Day, Australia! Here's how to v...</td>\n",
       "      <td>0.000</td>\n",
       "      <td>0.765</td>\n",
       "      <td>0.235</td>\n",
       "      <td>0.6114</td>\n",
       "    </tr>\n",
       "    <tr>\n",
       "      <th>1</th>\n",
       "      <td>Just awful to hear the news of the passing of ...</td>\n",
       "      <td>0.085</td>\n",
       "      <td>0.684</td>\n",
       "      <td>0.231</td>\n",
       "      <td>0.8748</td>\n",
       "    </tr>\n",
       "    <tr>\n",
       "      <th>2</th>\n",
       "      <td>Deeply saddened to hear of the passing of UAE ...</td>\n",
       "      <td>0.078</td>\n",
       "      <td>0.892</td>\n",
       "      <td>0.030</td>\n",
       "      <td>-0.5095</td>\n",
       "    </tr>\n",
       "    <tr>\n",
       "      <th>3</th>\n",
       "      <td>I congratulate Ferdinand Marcos Jr @bongbongma...</td>\n",
       "      <td>0.000</td>\n",
       "      <td>0.858</td>\n",
       "      <td>0.142</td>\n",
       "      <td>0.7269</td>\n",
       "    </tr>\n",
       "    <tr>\n",
       "      <th>4</th>\n",
       "      <td>Great news! Alongside the Olympics, the FIFA W...</td>\n",
       "      <td>0.000</td>\n",
       "      <td>0.764</td>\n",
       "      <td>0.236</td>\n",
       "      <td>0.9113</td>\n",
       "    </tr>\n",
       "    <tr>\n",
       "      <th>...</th>\n",
       "      <td>...</td>\n",
       "      <td>...</td>\n",
       "      <td>...</td>\n",
       "      <td>...</td>\n",
       "      <td>...</td>\n",
       "    </tr>\n",
       "    <tr>\n",
       "      <th>179</th>\n",
       "      <td>Brilliant stuff @ashbarty! An outstanding win,...</td>\n",
       "      <td>0.000</td>\n",
       "      <td>0.351</td>\n",
       "      <td>0.649</td>\n",
       "      <td>0.9697</td>\n",
       "    </tr>\n",
       "    <tr>\n",
       "      <th>180</th>\n",
       "      <td>Huge congrats to Cate Campbell and Patty Mills...</td>\n",
       "      <td>0.000</td>\n",
       "      <td>0.748</td>\n",
       "      <td>0.252</td>\n",
       "      <td>0.8439</td>\n",
       "    </tr>\n",
       "    <tr>\n",
       "      <th>181</th>\n",
       "      <td>A record week for COVID-19 vaccinations last w...</td>\n",
       "      <td>0.000</td>\n",
       "      <td>1.000</td>\n",
       "      <td>0.000</td>\n",
       "      <td>0.0000</td>\n",
       "    </tr>\n",
       "    <tr>\n",
       "      <th>182</th>\n",
       "      <td>Australia is charting a pathway out of COVID-1...</td>\n",
       "      <td>0.000</td>\n",
       "      <td>0.952</td>\n",
       "      <td>0.048</td>\n",
       "      <td>0.2732</td>\n",
       "    </tr>\n",
       "    <tr>\n",
       "      <th>183</th>\n",
       "      <td>Congratulations to this very special Australia...</td>\n",
       "      <td>0.000</td>\n",
       "      <td>0.575</td>\n",
       "      <td>0.425</td>\n",
       "      <td>0.9760</td>\n",
       "    </tr>\n",
       "  </tbody>\n",
       "</table>\n",
       "<p>184 rows × 5 columns</p>\n",
       "</div>"
      ],
      "text/plain": [
       "                                                  text    neg    neu    pos  \\\n",
       "0    Happy Election Day, Australia! Here's how to v...  0.000  0.765  0.235   \n",
       "1    Just awful to hear the news of the passing of ...  0.085  0.684  0.231   \n",
       "2    Deeply saddened to hear of the passing of UAE ...  0.078  0.892  0.030   \n",
       "3    I congratulate Ferdinand Marcos Jr @bongbongma...  0.000  0.858  0.142   \n",
       "4    Great news! Alongside the Olympics, the FIFA W...  0.000  0.764  0.236   \n",
       "..                                                 ...    ...    ...    ...   \n",
       "179  Brilliant stuff @ashbarty! An outstanding win,...  0.000  0.351  0.649   \n",
       "180  Huge congrats to Cate Campbell and Patty Mills...  0.000  0.748  0.252   \n",
       "181  A record week for COVID-19 vaccinations last w...  0.000  1.000  0.000   \n",
       "182  Australia is charting a pathway out of COVID-1...  0.000  0.952  0.048   \n",
       "183  Congratulations to this very special Australia...  0.000  0.575  0.425   \n",
       "\n",
       "     compound  \n",
       "0      0.6114  \n",
       "1      0.8748  \n",
       "2     -0.5095  \n",
       "3      0.7269  \n",
       "4      0.9113  \n",
       "..        ...  \n",
       "179    0.9697  \n",
       "180    0.8439  \n",
       "181    0.0000  \n",
       "182    0.2732  \n",
       "183    0.9760  \n",
       "\n",
       "[184 rows x 5 columns]"
      ]
     },
     "execution_count": 152,
     "metadata": {},
     "output_type": "execute_result"
    }
   ],
   "source": [
    "user1Sentiments"
   ]
  },
  {
   "cell_type": "code",
   "execution_count": 153,
   "metadata": {},
   "outputs": [
    {
     "data": {
      "text/html": [
       "<div>\n",
       "<style scoped>\n",
       "    .dataframe tbody tr th:only-of-type {\n",
       "        vertical-align: middle;\n",
       "    }\n",
       "\n",
       "    .dataframe tbody tr th {\n",
       "        vertical-align: top;\n",
       "    }\n",
       "\n",
       "    .dataframe thead th {\n",
       "        text-align: right;\n",
       "    }\n",
       "</style>\n",
       "<table border=\"1\" class=\"dataframe\">\n",
       "  <thead>\n",
       "    <tr style=\"text-align: right;\">\n",
       "      <th></th>\n",
       "      <th>text</th>\n",
       "      <th>neg</th>\n",
       "      <th>neu</th>\n",
       "      <th>pos</th>\n",
       "      <th>compound</th>\n",
       "    </tr>\n",
       "  </thead>\n",
       "  <tbody>\n",
       "    <tr>\n",
       "      <th>0</th>\n",
       "      <td>Our thoughts and prayers are with the families...</td>\n",
       "      <td>0.209</td>\n",
       "      <td>0.585</td>\n",
       "      <td>0.207</td>\n",
       "      <td>-0.0305</td>\n",
       "    </tr>\n",
       "    <tr>\n",
       "      <th>1</th>\n",
       "      <td>Shubh Dussehra! Warmest wishes to our Australi...</td>\n",
       "      <td>0.000</td>\n",
       "      <td>0.753</td>\n",
       "      <td>0.247</td>\n",
       "      <td>0.5562</td>\n",
       "    </tr>\n",
       "    <tr>\n",
       "      <th>2</th>\n",
       "      <td>Why does @AustralianLabor always look for a wa...</td>\n",
       "      <td>0.050</td>\n",
       "      <td>0.851</td>\n",
       "      <td>0.099</td>\n",
       "      <td>0.3400</td>\n",
       "    </tr>\n",
       "    <tr>\n",
       "      <th>3</th>\n",
       "      <td>On the 21st anniversary of the September 11 at...</td>\n",
       "      <td>0.235</td>\n",
       "      <td>0.596</td>\n",
       "      <td>0.169</td>\n",
       "      <td>-0.6124</td>\n",
       "    </tr>\n",
       "    <tr>\n",
       "      <th>4</th>\n",
       "      <td>An extraordinary life which touched so many ha...</td>\n",
       "      <td>0.149</td>\n",
       "      <td>0.792</td>\n",
       "      <td>0.059</td>\n",
       "      <td>-0.6352</td>\n",
       "    </tr>\n",
       "    <tr>\n",
       "      <th>...</th>\n",
       "      <td>...</td>\n",
       "      <td>...</td>\n",
       "      <td>...</td>\n",
       "      <td>...</td>\n",
       "      <td>...</td>\n",
       "    </tr>\n",
       "    <tr>\n",
       "      <th>130</th>\n",
       "      <td>Welcome to the crew of @FregatteBayern who arr...</td>\n",
       "      <td>0.000</td>\n",
       "      <td>0.840</td>\n",
       "      <td>0.160</td>\n",
       "      <td>0.7906</td>\n",
       "    </tr>\n",
       "    <tr>\n",
       "      <th>131</th>\n",
       "      <td>Ralph hasn’t made an appearance since we were ...</td>\n",
       "      <td>0.000</td>\n",
       "      <td>1.000</td>\n",
       "      <td>0.000</td>\n",
       "      <td>0.0000</td>\n",
       "    </tr>\n",
       "    <tr>\n",
       "      <th>132</th>\n",
       "      <td>Tks @GDElectricBoat the home of the Virginia c...</td>\n",
       "      <td>0.000</td>\n",
       "      <td>0.886</td>\n",
       "      <td>0.114</td>\n",
       "      <td>0.6486</td>\n",
       "    </tr>\n",
       "    <tr>\n",
       "      <th>133</th>\n",
       "      <td>We also honoured the ten Australian lives lost...</td>\n",
       "      <td>0.114</td>\n",
       "      <td>0.645</td>\n",
       "      <td>0.241</td>\n",
       "      <td>0.3749</td>\n",
       "    </tr>\n",
       "    <tr>\n",
       "      <th>134</th>\n",
       "      <td>On behalf of all Australians, I paid respect a...</td>\n",
       "      <td>0.219</td>\n",
       "      <td>0.591</td>\n",
       "      <td>0.191</td>\n",
       "      <td>-0.1027</td>\n",
       "    </tr>\n",
       "  </tbody>\n",
       "</table>\n",
       "<p>135 rows × 5 columns</p>\n",
       "</div>"
      ],
      "text/plain": [
       "                                                  text    neg    neu    pos  \\\n",
       "0    Our thoughts and prayers are with the families...  0.209  0.585  0.207   \n",
       "1    Shubh Dussehra! Warmest wishes to our Australi...  0.000  0.753  0.247   \n",
       "2    Why does @AustralianLabor always look for a wa...  0.050  0.851  0.099   \n",
       "3    On the 21st anniversary of the September 11 at...  0.235  0.596  0.169   \n",
       "4    An extraordinary life which touched so many ha...  0.149  0.792  0.059   \n",
       "..                                                 ...    ...    ...    ...   \n",
       "130  Welcome to the crew of @FregatteBayern who arr...  0.000  0.840  0.160   \n",
       "131  Ralph hasn’t made an appearance since we were ...  0.000  1.000  0.000   \n",
       "132  Tks @GDElectricBoat the home of the Virginia c...  0.000  0.886  0.114   \n",
       "133  We also honoured the ten Australian lives lost...  0.114  0.645  0.241   \n",
       "134  On behalf of all Australians, I paid respect a...  0.219  0.591  0.191   \n",
       "\n",
       "     compound  \n",
       "0     -0.0305  \n",
       "1      0.5562  \n",
       "2      0.3400  \n",
       "3     -0.6124  \n",
       "4     -0.6352  \n",
       "..        ...  \n",
       "130    0.7906  \n",
       "131    0.0000  \n",
       "132    0.6486  \n",
       "133    0.3749  \n",
       "134   -0.1027  \n",
       "\n",
       "[135 rows x 5 columns]"
      ]
     },
     "execution_count": 153,
     "metadata": {},
     "output_type": "execute_result"
    }
   ],
   "source": [
    "user2Sentiments"
   ]
  },
  {
   "cell_type": "code",
   "execution_count": 150,
   "metadata": {},
   "outputs": [
    {
     "data": {
      "text/plain": [
       "0.5350565217391303"
      ]
     },
     "execution_count": 150,
     "metadata": {},
     "output_type": "execute_result"
    }
   ],
   "source": [
    "user1Sentiments['compound'].mean()"
   ]
  },
  {
   "cell_type": "code",
   "execution_count": 151,
   "metadata": {},
   "outputs": [
    {
     "data": {
      "text/plain": [
       "0.3913525925925924"
      ]
     },
     "execution_count": 151,
     "metadata": {},
     "output_type": "execute_result"
    }
   ],
   "source": [
    "user2Sentiments['compound'].mean()"
   ]
  },
  {
   "cell_type": "markdown",
   "metadata": {},
   "source": [
    "Creating JSON Files"
   ]
  },
  {
   "cell_type": "code",
   "execution_count": 172,
   "metadata": {},
   "outputs": [],
   "source": [
    "import json\n",
    "with open('user1tweets.json', 'a', encoding='utf8') as file:\n",
    "    for t in tweets:\n",
    "        json.dump(t._json, file)\n",
    "\n",
    "with open('user2tweets.json', 'a', encoding='utf8') as file:\n",
    "    for t in tweets2:\n",
    "        json.dump(t._json, file)\n"
   ]
  },
  {
   "cell_type": "markdown",
   "metadata": {},
   "source": [
    "Creating CSVs\n"
   ]
  },
  {
   "cell_type": "code",
   "execution_count": 174,
   "metadata": {},
   "outputs": [],
   "source": [
    "user1Tweets = []\n",
    "user2Tweets = []\n",
    "for tweet in tweets:\n",
    "    user1Tweets.append([tweet.user.name, tweet.full_text, pd.to_datetime(tweet.created_at)])\n",
    "for tweet in tweets2:\n",
    "    user2Tweets.append([tweet.user.name, tweet.full_text, pd.to_datetime(tweet.created_at)])\n",
    "user1Tweets = pd.DataFrame(user1Tweets)\n",
    "user2Tweets = pd.DataFrame(user2Tweets)\n",
    "\n",
    "user1Tweets = pd.DataFrame({'name':user1Tweets[0], 'text': user1Tweets[1], 'created_at': user1Tweets[2]})\n",
    "user2Tweets = pd.DataFrame({'name':user2Tweets[0], 'text': user2Tweets[1], 'created_at': user2Tweets[2]})\n",
    "\n",
    "user1Tweets.to_csv('user1.csv')\n",
    "user2Tweets.to_csv('user2.csv')"
   ]
  }
 ],
 "metadata": {
  "kernelspec": {
   "display_name": "Python 3 (ipykernel)",
   "language": "python",
   "name": "python3"
  },
  "language_info": {
   "codemirror_mode": {
    "name": "ipython",
    "version": 3
   },
   "file_extension": ".py",
   "mimetype": "text/x-python",
   "name": "python",
   "nbconvert_exporter": "python",
   "pygments_lexer": "ipython3",
   "version": "3.11.7"
  },
  "vscode": {
   "interpreter": {
    "hash": "9db2bfb4c85c6c5a6fe59b623f61206d44e0a24014eef6a225e504988ec2374c"
   }
  }
 },
 "nbformat": 4,
 "nbformat_minor": 2
}
