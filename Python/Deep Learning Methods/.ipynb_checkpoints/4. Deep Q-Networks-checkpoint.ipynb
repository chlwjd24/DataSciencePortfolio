{
 "cells": [
  {
   "cell_type": "markdown",
   "metadata": {
    "id": "_RAs_c35HTq0"
   },
   "source": [
    "# Deep Q-Network Implementation\n",
    "\n",
    "In this notebook, we implement the DQN algorithm for classic control problems such as CartPole. When you implement this, you can apply it to similar low-dimensional state-space and discrete action-space environments such as LunarLander-v2, MountainCar-v0, etc.\n",
    "\n",
    "<center>\n",
    "<table>\n",
    "  <tr>\n",
    "    <td>\n",
    "      <img src=\"https://raw.githubusercontent.com/FredAmouzgar/comp8220_ML_2021S1/main/images/CartPole.gif\" width=400px>\n",
    "    </td>\n",
    "    <td>\n",
    "      <img src=\"https://raw.githubusercontent.com/FredAmouzgar/comp8220_ML_2021S1/main/images/MountainCar.gif\" width=500px>\n",
    "    </td>\n",
    "    <td>\n",
    "      <img src=\"https://raw.githubusercontent.com/FredAmouzgar/comp8220_ML_2021S1/main/images/LunarLander.gif\" width=500px>\n",
    "    </td>\n",
    "    \n",
    "  </tr>\n",
    "  <tr>\n",
    "      <td><center><h4>CartPole</h4></center></td>\n",
    "      <td><center><h4>MountainCar</h4></center></td>\n",
    "      <td><center><h4>LunarLander</h4></center></td>\n",
    "  </tr>\n",
    "</table>\n",
    "</center>"
   ]
  },
  {
   "cell_type": "markdown",
   "metadata": {
    "id": "fUqf5PIZP0qt"
   },
   "source": [
    "## Some Installations and Creating a virtual Screen for Rendering"
   ]
  },
  {
   "cell_type": "code",
   "execution_count": 1,
   "metadata": {
    "colab": {
     "base_uri": "https://localhost:8080/"
    },
    "id": "iOmNCtf8p5se",
    "outputId": "d5c66ddd-2fda-42f6-b3bb-1dba2bf8ed9f"
   },
   "outputs": [
    {
     "name": "stdout",
     "output_type": "stream",
     "text": [
      "Selecting previously unselected package xvfb.\n",
      "(Reading database ... 160706 files and directories currently installed.)\n",
      "Preparing to unpack .../xvfb_2%3a1.19.6-1ubuntu4.9_amd64.deb ...\n",
      "Unpacking xvfb (2:1.19.6-1ubuntu4.9) ...\n",
      "Setting up xvfb (2:1.19.6-1ubuntu4.9) ...\n",
      "Processing triggers for man-db (2.8.3-2ubuntu0.1) ...\n",
      "The following package was automatically installed and is no longer required:\n",
      "  libnvidia-common-460\n",
      "Use 'apt autoremove' to remove it.\n",
      "The following additional packages will be installed:\n",
      "  swig3.0\n",
      "Suggested packages:\n",
      "  swig-doc swig-examples swig3.0-examples swig3.0-doc\n",
      "The following NEW packages will be installed:\n",
      "  swig swig3.0\n",
      "0 upgraded, 2 newly installed, 0 to remove and 79 not upgraded.\n",
      "Need to get 1,100 kB of archives.\n",
      "After this operation, 5,822 kB of additional disk space will be used.\n",
      "Selecting previously unselected package swig3.0.\n",
      "(Reading database ... 160713 files and directories currently installed.)\n",
      "Preparing to unpack .../swig3.0_3.0.12-1_amd64.deb ...\n",
      "Unpacking swig3.0 (3.0.12-1) ...\n",
      "Selecting previously unselected package swig.\n",
      "Preparing to unpack .../swig_3.0.12-1_amd64.deb ...\n",
      "Unpacking swig (3.0.12-1) ...\n",
      "Setting up swig3.0 (3.0.12-1) ...\n",
      "Setting up swig (3.0.12-1) ...\n",
      "Processing triggers for man-db (2.8.3-2ubuntu0.1) ...\n",
      "\u001b[K     |████████████████████████████████| 450kB 7.4MB/s \n",
      "\u001b[?25hStarting virtual X frame buffer: Xvfb.\n"
     ]
    }
   ],
   "source": [
    "# PLEASE DO NOT MODIFY THIS\n",
    "import sys, os\n",
    "if 'google.colab' in sys.modules and not os.path.exists('.done'):\n",
    "    !wget -q https://raw.githubusercontent.com/FredAmouzgar/python_Exercise/master/Colab_setup/setup_colab.sh -O- | bash\n",
    "    !apt -qq install swig # needed to build Box2D in the pip install\n",
    "    !pip -q install box2d-py\n",
    "    !pip -q install gym[atari]\n",
    "    !touch .done\n",
    "\n",
    "# Creating a virtual display to draw game images on.\n",
    "if type(os.environ.get(\"DISPLAY\")) is not str or len(os.environ.get(\"DISPLAY\")) == 0:\n",
    "    !bash ../xvfb start\n",
    "    os.environ['DISPLAY'] = ':1'"
   ]
  },
  {
   "cell_type": "markdown",
   "metadata": {
    "id": "2DSrsVkHQNyS"
   },
   "source": [
    "## Working with the OpenAI Library\n",
    "\n",
    "Here are some of OpenAI Gym's methods to initialize and interact with the environments."
   ]
  },
  {
   "cell_type": "markdown",
   "metadata": {
    "id": "qG3oqydkWKcp"
   },
   "source": [
    "### 1- Creating a new environment and assigning it to a variable\n",
    "\n",
    "```python\n",
    "env = gym.make(ENV_NAME)\n",
    "```\n",
    "OR if you want to override the horizon of the environment (we need this in our training). MountainCar's horizon is by default 200 steps.\n",
    "\n",
    "```python\n",
    "env = gym.make(ENV_NAME).env\n",
    "```"
   ]
  },
  {
   "cell_type": "markdown",
   "metadata": {
    "id": "HtFlWzOuWOdN"
   },
   "source": [
    "### 2- Reseting an Environment\n",
    "```python\n",
    "state = env.reset()\n",
    "```\n",
    "This will generate the first state, and can be processed by the agent."
   ]
  },
  {
   "cell_type": "markdown",
   "metadata": {
    "id": "ujbe5CxVWQ9l"
   },
   "source": [
    "### 3- Taking a Step\n",
    "```python\n",
    "new_state, reward, done, info = env.step(action)\n",
    "```\n",
    "The environment processes the action chosen by the agent. A tuple will be generated consisting of the new state, the received reward, the end status of the game, and some extra information."
   ]
  },
  {
   "cell_type": "markdown",
   "metadata": {
    "id": "5ihbLev-Wk_X"
   },
   "source": [
    "### 4- Rendering the Environment\n",
    "\n",
    "```python\n",
    "env.render()\n",
    "```\n",
    "In Colab notebooks, this won't work, as a new window cannot be initialized. Instead we will render it in the rgb mode and use matplotlib to display the screen. This method leads to a very laggy screen, but it's the best option we have access to in Colab.\n",
    "\n",
    "```python\n",
    "fig, ax = plt.subplots(figsize=(12, 12))\n",
    "ax.imshow(env.render(mode=\"rgb_array\"))\n",
    "plt.axis(\"off\")\n",
    "plt.show()\n",
    "clear_output(wait=True)\n",
    "```"
   ]
  },
  {
   "cell_type": "markdown",
   "metadata": {
    "id": "5yqfw6jzX3By"
   },
   "source": [
    "### 5- Closing the Environment\n",
    "\n",
    "```python\n",
    "env.close()\n",
    "```\n",
    "It's not always necessary, but it's a good practice to explicitly release resources after using them."
   ]
  },
  {
   "cell_type": "markdown",
   "metadata": {
    "id": "ro_ZqTkBZHFB"
   },
   "source": [
    "### 6- Run a Random Agent on your Computer\n",
    "\n",
    "You can use this code to run a random agent for the MountainCar environment on your computer, assuming that you have installed gym and gym\\[atari\\].\n",
    "\n",
    "```python\n",
    "import gym\n",
    "from time import sleep\n",
    "\n",
    "env = gym.make(\"MountainCar-v0\") \n",
    "env.reset() \n",
    "done = False \n",
    "step = 0 \n",
    "while not done: \n",
    "  new_state,reward,done, _ = env.step(env.action_space.sample()) \n",
    "  step += 1 \n",
    "  env.render()\n",
    "  sleep(0.02)\n",
    "env.close()    \n",
    "```\n",
    "\n",
    "Reminder: here's the way to install gym and gym[atari]. Installation for [Linux and Mac](https://github.com/openai/gym#installation) | [Windows](https://towardsdatascience.com/how-to-render-openai-gym-on-windows-65767ab52ae2).\n",
    "```bash\n",
    "pip install gym gym[atari]\n",
    "```"
   ]
  },
  {
   "cell_type": "markdown",
   "metadata": {
    "id": "cvMfPNVkWhiy"
   },
   "source": [
    "## Let's Run a Random Agent in Colab"
   ]
  },
  {
   "cell_type": "code",
   "execution_count": 2,
   "metadata": {
    "colab": {
     "base_uri": "https://localhost:8080/",
     "height": 477
    },
    "id": "Z-nrcg-5qJbJ",
    "outputId": "db40daa2-fb8f-4af0-e007-7835280b8afa"
   },
   "outputs": [
    {
     "data": {
      "image/png": "[encoded data removed]",
      "text/plain": [
       "<Figure size 864x864 with 1 Axes>"
      ]
     },
     "metadata": {
      "needs_background": "light",
      "tags": []
     },
     "output_type": "display_data"
    }
   ],
   "source": [
    "import gym\n",
    "import matplotlib.pyplot as plt\n",
    "from time import sleep\n",
    "from IPython.display import clear_output\n",
    "\n",
    "env = gym.make(\"CartPole-v0\")\n",
    "env.reset()\n",
    "done = False\n",
    "step = 0\n",
    "while not done:\n",
    "  new_state,reward,done, _ = env.step(env.action_space.sample())\n",
    "  step += 1\n",
    "  if step % 2 == 0:\n",
    "    fig, ax = plt.subplots(figsize=(12, 12))\n",
    "    ax.imshow(env.render(mode=\"rgb_array\"))\n",
    "    plt.axis(\"off\")\n",
    "    plt.show()\n",
    "    clear_output(wait=True)"
   ]
  },
  {
   "cell_type": "markdown",
   "metadata": {
    "id": "CKEqpJA_rSxk"
   },
   "source": [
    "## The DQN Agent:"
   ]
  },
  {
   "cell_type": "markdown",
   "metadata": {
    "id": "xsj0mpLMadCY"
   },
   "source": [
    "### 1- Implementing the Experience Replay Buffer\n",
    "\n",
    "The interface is simple:\n",
    "\n",
    "* exp_replay.update(state, action, reward, done, next_state) - saves (s,a,r,done, s') tuple into the buffer.\n",
    "\n",
    "* exp_replay.sample() - returns a tuple of numpy arrays or TF tensors consists of sampled states, actions, rewards, done, and next_state for batch_size random samples. The batch_size is determined at the time of creating the buffer.\n",
    "\n",
    "* exp_replay.size() - returns the current size of the buffer.\n",
    "\n",
    "* exp_replay.reset() - deletes all the experiences from the buffer."
   ]
  },
  {
   "cell_type": "markdown",
   "metadata": {
    "id": "zz0NR9VSqIX7"
   },
   "source": [
    "#### TODO: Exercise #1: Work with the deque class\n",
    "1. Import the `deque` class from the `collections` library. A deque (pronounced deck, like \"cheque\") is a double-ended queue which is an abstract data type that generalizes a queue, for which elements can be added to or removed from either the front (head) or back (tail) \\[[Wiki](https://en.wikipedia.org/wiki/Double-ended_queue)\\].\n",
    "2. Create a new deque called `d` with `maxlen` of 3.\n",
    "3. In a for loop add 5 elements to it. Observe the contents of the deque and how elements are discarded from the deque."
   ]
  },
  {
   "cell_type": "code",
   "execution_count": 3,
   "metadata": {
    "colab": {
     "base_uri": "https://localhost:8080/"
    },
    "id": "J3vn_5_dqFd_",
    "outputId": "43f59352-21ec-4ac4-d42c-b951d4c1b44d"
   },
   "outputs": [
    {
     "name": "stdout",
     "output_type": "stream",
     "text": [
      "deque([1], maxlen=3)\n",
      "deque([1, 2], maxlen=3)\n",
      "deque([1, 2, 3], maxlen=3)\n",
      "deque([2, 3, 4], maxlen=3)\n",
      "deque([3, 4, 5], maxlen=3)\n"
     ]
    }
   ],
   "source": [
    "from collections import deque\n",
    "\n",
    "# TODO: <Your Code Here>\n",
    "d = deque(maxlen=3)\n",
    "\n",
    "for i in range(1,6):\n",
    "    d.append(i)\n",
    "    print(d)"
   ]
  },
  {
   "cell_type": "markdown",
   "metadata": {
    "id": "LxS6lQJTxW0f"
   },
   "source": [
    "#### TODO: Exercise #2: Practice Sampling from a deque\n",
    "1. Use NumPy and its choice method (<b>np.random.choice(a, size=None, replace=True)</b>) to sample 32 <b>indicies</b> for element selection from the predefined deque.\n",
    "2. Use indicies to extract those elements.\n",
    "3. See how we can use [tf.stack()](https://www.tensorflow.org/api_docs/python/tf/stack) to stack two arrays, and [tf.cast()](https://www.tensorflow.org/api_docs/python/tf/cast) to cast it to tf.float32.\n",
    "4. Use tf.stack() to stack each component of the extracted elements in (2). After this process, we should have a tuple of 5 [tensorflow tensors](https://www.tensorflow.org/api_docs/python/tf/Tensor?version=nightly) (think of it as TensorFlow arrays). For example, since there're 32 batches the first and last elements' shape must be (32, 2). The rest should be (32,). <u>But, why is this necessary?</u> (Hint: We are going to pass a batch of states from our neural network)\n",
    "5. Use tf.cast to make sure they are all tf.float32, except the action which should remain an integer."
   ]
  },
  {
   "cell_type": "code",
   "execution_count": 4,
   "metadata": {
    "colab": {
     "base_uri": "https://localhost:8080/"
    },
    "id": "d6bMMCZaNOLU",
    "outputId": "1154d4c9-2370-4193-c50d-4579d7dce892"
   },
   "outputs": [
    {
     "name": "stdout",
     "output_type": "stream",
     "text": [
      "Array after stacking:\n",
      " tf.Tensor(\n",
      "[[1 2]\n",
      " [3 4]\n",
      " [5 6]], shape=(3, 2), dtype=int32)\n",
      "Array after casting:\n",
      " tf.Tensor(\n",
      "[[1. 2.]\n",
      " [3. 4.]\n",
      " [5. 6.]], shape=(3, 2), dtype=float32)\n",
      "(32, 2) (32,) (32,) (32,) (32, 2)\n",
      "<dtype: 'float64'> <dtype: 'int32'> <dtype: 'int32'> <dtype: 'bool'> <dtype: 'float64'>\n",
      "<dtype: 'float32'> <dtype: 'int32'> <dtype: 'float32'> <dtype: 'float32'> <dtype: 'float32'>\n"
     ]
    }
   ],
   "source": [
    "from collections import deque\n",
    "import tensorflow as tf\n",
    "import numpy as np\n",
    "import gym\n",
    "\n",
    "env = gym.make(\"MountainCar-v0\")\n",
    "buffer = deque(maxlen=1000)\n",
    "s = env.reset() # array([-0.4142954,  0.       ])\n",
    "experience = (s, 1, -1, False, s) # creating a dummy experience tuple (state, action, reward, done, new_state)\n",
    "for _ in range(100):\n",
    "    buffer.append(experience)\n",
    "batch = [experience for i in range(32)] # creating a dummy batch\n",
    "\n",
    "# TODO: Answer 1\n",
    "indicies = np.random.choice(len(batch), size=32, replace=False)\n",
    "#print(indicies)\n",
    "\n",
    "# TODO: Answer 2\n",
    "batch = [buffer[idx] for idx in indicies]\n",
    "#print(batch)\n",
    "\n",
    "# 3\n",
    "stacked_array = tf.stack([[1,2],[3,4],[5,6]])\n",
    "print(\"Array after stacking:\\n\", stacked_array)\n",
    "float_array = tf.cast(stacked_array, dtype=tf.float32)\n",
    "print(\"Array after casting:\\n\", float_array)\n",
    "\n",
    "# TODO: Answer 4\n",
    "# state, action, reward, done, state_ = [tf.stack([experience[field_idx] for experience in batch]) for field_idx in range(5)]\n",
    "state, action, reward, done, state_ = [],[],[],[],[]\n",
    "for experience in batch:\n",
    "    state.append(experience[0]), action.append(experience[1]), reward.append(experience[2]), done.append(experience[3]), state_.append(experience[4])\n",
    "state, action, reward, done, state_ = [tf.stack(e) for e in (state, action, reward, done, state_)]\n",
    "\n",
    "print(state.shape, action.shape, reward.shape, done.shape, state_.shape)\n",
    "print(state.dtype, action.dtype, reward.dtype, done.dtype, state_.dtype)\n",
    "\n",
    "# TODO: Anwer 5\n",
    "state, reward, done, state_ = [tf.cast(e, dtype=tf.float32) for e in (state, reward, done, state_)]\n",
    "print(state.dtype, action.dtype, reward.dtype, done.dtype, state_.dtype)"
   ]
  },
  {
   "cell_type": "markdown",
   "metadata": {
    "id": "C_TlnMYwgnA4"
   },
   "source": [
    "#### TODO: Let's put them together\n",
    "\n",
    "<img src=\"https://raw.githubusercontent.com/FredAmouzgar/comp8220_ML_2021S1/main/images/exp_replay.png\" width=800px> <!-- Source: Practical Reinforcement Learning Course on coursera.com -->\n",
    "\n",
    "Complete the ReplayBuffer's implementation."
   ]
  },
  {
   "cell_type": "code",
   "execution_count": 5,
   "metadata": {
    "id": "osls6p31sD7Y"
   },
   "outputs": [],
   "source": [
    "from collections import deque\n",
    "import numpy as np\n",
    "import tensorflow as tf\n",
    "\n",
    "class ReplayBuffer:\n",
    "    def __init__(self, batch_size=50, buffer_size=2000):\n",
    "        self.batch_size = batch_size\n",
    "        self.buffer = deque(maxlen=buffer_size)\n",
    "\n",
    "    def update(self, state, action, reward, done, state_):\n",
    "        \"\"\"\n",
    "        Adds an agent's experiences to the memory\n",
    "        :return: True if successful\n",
    "        \"\"\"\n",
    "        # TODO: Append the experience as a TUPLE tp the buffer, use the append method\n",
    "        try:\n",
    "            self.buffer.append((state, action, reward, done, state_))\n",
    "        except:\n",
    "            print(\"Something went wrong.\")\n",
    "            return False\n",
    "        return True\n",
    "\n",
    "    def sample(self):\n",
    "        \"\"\"\n",
    "        :return: A batch of data for training\n",
    "        \"\"\"\n",
    "        # TODO: Repeat what you did in section 4 and 5.\n",
    "        # Sample a batch of indicies, use them to extract experiences, stack and convert them to tf.float32\n",
    "        idx = np.random.choice(range(self.size()), size=self.batch_size, replace=False)\n",
    "        batch = [self.buffer[i] for i in idx]\n",
    "        state, action, reward, done, state_ = [tf.stack([experience[field_idx] for experience in batch]) \\\n",
    "                                               for field_idx in range(5)]\n",
    "        state, reward, done, state_ = [tf.cast(e, dtype=tf.float32) for e in (state, reward, done, state_)]\n",
    "        return state, action, reward, done, state_\n",
    "\n",
    "    def reset(self):\n",
    "        \"\"\"\n",
    "        Clears all the recorded experiences\n",
    "        :return:\n",
    "        \"\"\"\n",
    "        self.buffer.clear()\n",
    "\n",
    "    def size(self):\n",
    "        return len(self.buffer)"
   ]
  },
  {
   "cell_type": "markdown",
   "metadata": {
    "id": "hjje7bjGRR8I"
   },
   "source": [
    "## The DQN Agent\n",
    "<center>\n",
    "  <img src=\"https://raw.githubusercontent.com/FredAmouzgar/comp8220_ML_2021S1/main/images/DQN_Algorithm_Structure.png\" width=800px>\n",
    "  <p><b>Figure 1</b></p>\n",
    "</center>\n",
    "\n",
    "The mechanism behind DQN can be summed up in these steps as it is also demonstrated in the Figure 1 [\\[1\\]](https://arxiv.org/pdf/1507.04296.pdf).\n",
    "\n",
    "1. The environment generates a state, in response to agent's prior action or randomly in the initial state.\n",
    "2. The agent passes that state through its Q Network and responds to it by selecting an action (using ε-greedy policy).\n",
    "3. The environment takes the selected action and moves to the next state and generates a reward.\n",
    "4. The transition tuple, (state, action, reward, new_state), will be saved in the Replay Memory for training."
   ]
  },
  {
   "cell_type": "code",
   "execution_count": 6,
   "metadata": {
    "id": "0qSJ-4kUrUrv"
   },
   "outputs": [],
   "source": [
    "import tensorflow as tf\n",
    "from tensorflow.keras import layers, losses, models\n",
    "from tensorflow import keras\n",
    "import numpy as np\n",
    "\n",
    "class Network:\n",
    "    @staticmethod\n",
    "    def init_brain(state_size, hidden_units, action_size, lr=0.001):\n",
    "        # TODO: Create a dense neural network.\n",
    "        # - state_size: integer -> Use it as the input_shape in the first dense layer like this input_shape=(state_size,)\n",
    "        # - hidden_units: A list of integers -> Normally 2 elements, but should be able to process more hidden layers. (think of for loops)\n",
    "        # - The activation function in all of them is \"relu\", except the output Dense layer which is \"linear\".\n",
    "        # - Do not compile it. We use a custom training loop for this. So, the optimizer will be explicitly added.\n",
    "        # Finally return the model\n",
    "        model = models.Sequential()\n",
    "        model.add(layers.Dense(hidden_units[0], input_shape=(state_size,), activation=\"relu\"))\n",
    "        for hidden_unit in hidden_units[1:]:\n",
    "            model.add(layers.Dense(hidden_unit, activation=\"relu\"))\n",
    "        model.add(layers.Dense(action_size, activation=\"linear\"))\n",
    "        return model\n",
    "\n",
    "\n",
    "class Agent:\n",
    "    def __init__(self, state_size, hidden_units, action_size, epsilon=1,\n",
    "                 epsilon_decay_start_step=0, epsilon_decay_end_val=0.1,\n",
    "                 epsilon_decay_end_step=10000, gamma=0.995, lr=0.001,\n",
    "                 to_train=True, train_frequency=4, buffer_size=10000, batch_size=32,\n",
    "                 target_update_frequency=20):\n",
    "        if hidden_units is None:\n",
    "            hidden_units = [256]  # According to \"Playing Atari with DeepRL\"\n",
    "        self.model = Network.init_brain(state_size, hidden_units, action_size, lr)\n",
    "        self.target = Network.init_brain(state_size, hidden_units, action_size, lr)\n",
    "\n",
    "        self.buffer_size = buffer_size\n",
    "        self.buffer = ReplayBuffer(buffer_size=self.buffer_size, batch_size=batch_size)\n",
    "        self.action_size = action_size\n",
    "        self.state_size = state_size\n",
    "        self.epsilon = epsilon\n",
    "        self.epsilon_decay_start_step = epsilon_decay_start_step,\n",
    "        self.epsilon_decay_end_val = epsilon_decay_end_val\n",
    "        self.epsilon_decay_end_step = epsilon_decay_end_step\n",
    "        self.epsilon_decay_factor = (epsilon - epsilon_decay_end_val) / (\n",
    "                epsilon_decay_end_step - epsilon_decay_start_step)\n",
    "        self.gamma = gamma\n",
    "        ## For training\n",
    "        self.to_train = to_train  # Flag activating the training process\n",
    "        self.batch_size = batch_size  # Number of experiences in every batch\n",
    "        ##\n",
    "        self.target_update_frequency = target_update_frequency\n",
    "        self.learning_rate = lr\n",
    "        self.optimizer = keras.optimizers.Adam(learning_rate=lr)\n",
    "        self.loss_fn = losses.mean_squared_error\n",
    "        self.train_frequency = train_frequency\n",
    "        self.total_step = 0  # Keeps track of the steps taken by the agent\n",
    "\n",
    "    def act(self, state):\n",
    "        \"\"\"\n",
    "        :param state: Processes the state of the game and generates an action in response\n",
    "        :return: an action\n",
    "        \"\"\"\n",
    "        # TODO: Implement the ε-greedy algorithm\n",
    "        # - When a generated random number (np.random.random()) is less than ε, act randomly - use np.random.choice to\n",
    "        # select an action from self.action_size\n",
    "        # - Otherwise, act greedily. Give the state to the model's predict method\n",
    "        # - You need to modify the state before processing it (add an extra dimension to it as dense networks process data batches)\n",
    "        # - You can use this notation: state[np.newaxis]\n",
    "        # Finally, find the action that maximizes the output. \n",
    "        if np.random.random() < self.epsilon:\n",
    "            return np.random.choice(self.action_size)\n",
    "        else:\n",
    "            # We expand the dim of the state as the model is expecting a batch of data,\n",
    "            # so one dimension is missing in one data point.\n",
    "            Q_values = self.model.predict(state[np.newaxis])\n",
    "            return np.argmax(np.squeeze(Q_values))\n",
    "\n",
    "    def step(self, state, action, reward, done, state_):\n",
    "        \"\"\"\n",
    "        This method is called in every timestep of every episode\n",
    "        :param state: The current state of the env\n",
    "        :param action: The action taken by the agent\n",
    "        :param reward: The reward received by the agent\n",
    "        :param done: The done flag indicating the status of the episode\n",
    "        :param state_: The next state the env transitioned to as a result of the action.\n",
    "        :return:\n",
    "        \"\"\"\n",
    "        self.buffer.update(state, action, reward, float(done), state_)\n",
    "        self.total_step += 1\n",
    "\n",
    "        if self.to_train:\n",
    "            self.epsilon_decay()\n",
    "            if self.total_step > self.batch_size and self.total_step % self.train_frequency == 0:\n",
    "                self.update()\n",
    "            if self.total_step % self.target_update_frequency == 0:\n",
    "                self.update_target()\n",
    "\n",
    "    def update(self):\n",
    "        \"\"\"\n",
    "        Updates the agent in the iterations determined by the step method.\n",
    "        :return:\n",
    "        \"\"\"\n",
    "        # ****************** Custom Training Loop ************************\n",
    "        states, actions, rewards, dones, states_ = self.buffer.sample()\n",
    "\n",
    "        q_target = rewards + (1 - dones) * self.gamma * np.max(self.target.predict(states_), axis=1)\n",
    "\n",
    "        mask = tf.one_hot(actions, self.action_size)\n",
    "        dqn_variable = self.model.trainable_variables\n",
    "        with tf.GradientTape() as tape:\n",
    "            all_q_values = self.model(states)\n",
    "            q_values = tf.reduce_sum(all_q_values * mask, axis=1)\n",
    "            main_loss = tf.reduce_mean(tf.square(q_values - q_target))\n",
    "        gradients = tape.gradient(main_loss, dqn_variable)\n",
    "        self.optimizer.apply_gradients(zip(gradients, dqn_variable))\n",
    "        # ******************************************************************\n",
    "        \n",
    "    def update_target(self):\n",
    "        self.target.set_weights(self.model.get_weights())\n",
    "\n",
    "    def save(self, name=\"CartPole\"):\n",
    "        \"\"\"\n",
    "        It Saves the agents brain\n",
    "        :param name: Name of the file, can be a combination of env, experiment and extra info\n",
    "        :return: Nothing\n",
    "        \"\"\"\n",
    "        self.model.save(str(name) + \".h5\")\n",
    "\n",
    "    def load(self, path):\n",
    "        \"\"\"\n",
    "        :param name: Name and path of the file for loading\n",
    "        :return: a Neural Network\n",
    "        \"\"\"\n",
    "        self.model.load_weights(filepath=path)\n",
    "\n",
    "    def epsilon_decay(self):\n",
    "        if self.epsilon > self.epsilon_decay_end_val:\n",
    "            self.epsilon -= self.epsilon_decay_factor\n",
    "            #  self.epsilon *= 0.995\n",
    "        else:\n",
    "            self.epsilon = self.epsilon_decay_end_val"
   ]
  },
  {
   "cell_type": "markdown",
   "metadata": {
    "id": "I_xccgd3XkdO"
   },
   "source": [
    "## Training the agent (~ Takes 10-15 minutes on Colab):"
   ]
  },
  {
   "cell_type": "code",
   "execution_count": 7,
   "metadata": {
    "colab": {
     "base_uri": "https://localhost:8080/",
     "height": 315
    },
    "id": "PDPXlm4Sr1kC",
    "outputId": "93432f6f-3b0d-4be6-a204-f64384a2f175"
   },
   "outputs": [
    {
     "data": {
      "image/png": "[encoded data removed]",
      "text/plain": [
       "<Figure size 432x288 with 1 Axes>"
      ]
     },
     "metadata": {
      "needs_background": "light",
      "tags": []
     },
     "output_type": "display_data"
    },
    {
     "name": "stdout",
     "output_type": "stream",
     "text": [
      "WARNING:tensorflow:Compiled the loaded model, but the compiled metrics have yet to be built. `model.compile_metrics` will be empty until you train or evaluate the model.\n",
      "Model CONVERGED! Mean reward: 305.1\n"
     ]
    }
   ],
   "source": [
    "%matplotlib inline\n",
    "import gym\n",
    "from IPython.display import clear_output\n",
    "import matplotlib.pyplot as plt\n",
    "import numpy as np\n",
    "import tensorflow as tf\n",
    "from time import time\n",
    "\n",
    "AVERAGE_MEMORY = 10\n",
    "HORIZON = 1500\n",
    "solved_reward = 300\n",
    "CONVERGED = False\n",
    "eval_frequency = 4\n",
    "ENV_NAME = \"CartPole-v0\"\n",
    "env = gym.make(ENV_NAME).env\n",
    "# env.seed(SEED)  # SEED = 0\n",
    "agent = Agent(state_size=env.observation_space.shape[0],\n",
    "              hidden_units=[128, 64], action_size=env.action_space.n,\n",
    "              epsilon_decay_start_step=0, epsilon_decay_end_val=0.1,\n",
    "              epsilon_decay_end_step=10000, gamma=0.99, lr=0.001,\n",
    "              to_train=True, train_frequency=4, buffer_size=50000, batch_size=64,\n",
    "              target_update_frequency=100)\n",
    "\n",
    "total_step = 0\n",
    "all_rewards, avg_rewards, steps = [], [], []\n",
    "episode = 0\n",
    "\n",
    "stime = time()\n",
    "print(\"Training started ...\")\n",
    "while not CONVERGED:\n",
    "    episode += 1\n",
    "    state = env.reset()\n",
    "    done = False\n",
    "    return_episode = 0\n",
    "    episode_step = 0\n",
    "    while not done:\n",
    "        action = agent.act(state)\n",
    "        state_, reward, done, info = env.step(action)\n",
    "        return_episode += reward\n",
    "        total_step += 1\n",
    "        episode_step += 1\n",
    "        \n",
    "        agent.step(state, action, reward, done, state_)\n",
    "        state = state_\n",
    "        \n",
    "        if episode_step >= HORIZON:\n",
    "            done = True\n",
    "            \n",
    "        if done:\n",
    "            steps.append(episode_step)\n",
    "            all_rewards.append(return_episode)\n",
    "            if len(all_rewards) < AVERAGE_MEMORY:\n",
    "                avg_r = np.mean(all_rewards)\n",
    "            else:\n",
    "              avg_r = np.mean(all_rewards[-1 * AVERAGE_MEMORY:])\n",
    "            avg_rewards.append(avg_r)\n",
    "            clear_output(wait=True)\n",
    "            plt.title(\"Total Steps:\" + str(total_step) +\\\n",
    "                      \" - Episode Return:\"+str(return_episode) +\\\n",
    "                      \" - ε:\"  + str(round(agent.epsilon, 4)) + \" - elapsed time:\"\\\n",
    "                      + str(round(time()-stime, 2)) + \" sec\")\n",
    "            plt.plot(list(range(len(steps))),all_rewards)\n",
    "            plt.plot(list(range(len(steps))),avg_rewards)\n",
    "            plt.legend([\"Returns\", f\"avg_rewards (last {AVERAGE_MEMORY} episodes)\"], loc='top left')\n",
    "            plt.show()\n",
    "            if avg_r >= solved_reward:\n",
    "                agent.save(ENV_NAME)\n",
    "                CONVERGED = True\n",
    "                print(\"Model CONVERGED! Mean reward:\", avg_r)\n",
    "env.close()"
   ]
  },
  {
   "cell_type": "markdown",
   "metadata": {
    "id": "iPpNAO05ogHM"
   },
   "source": [
    "## Watch a Smart Agent"
   ]
  },
  {
   "cell_type": "code",
   "execution_count": 8,
   "metadata": {
    "colab": {
     "base_uri": "https://localhost:8080/",
     "height": 493
    },
    "id": "XmheFBKj7LSm",
    "outputId": "a5a94e20-2696-4525-bdb7-1595104dcce2",
    "scrolled": true
   },
   "outputs": [
    {
     "data": {
      "image/png": "[encoded data removed]",
      "text/plain": [
       "<Figure size 864x864 with 1 Axes>"
      ]
     },
     "metadata": {
      "needs_background": "light",
      "tags": []
     },
     "output_type": "display_data"
    }
   ],
   "source": [
    "import gym\n",
    "import matplotlib.pyplot as plt\n",
    "from time import sleep\n",
    "from IPython.display import clear_output\n",
    "\n",
    "env = gym.make(\"CartPole-v0\").env\n",
    "\n",
    "# Uncomment if you have a saved model\n",
    "\"\"\"\n",
    "if os.path.exists(\"MountainCar-v0.h5\"):\n",
    "    agent = Agent(state_size=env.observation_space.shape[0], hidden_units=[32, 32],\n",
    "                  action_size=env.action_space.n, to_train=False, epsilon = 0)\n",
    "    agent.load(\"MountainCar-v0.h5\")\n",
    "\"\"\"\n",
    "agent.epsilon = 0  # deactivating exploration\n",
    "state = env.reset()\n",
    "done = False\n",
    "step = 0\n",
    "while not done:\n",
    "  new_state,reward,done, _ = env.step(agent.act(state))\n",
    "  state = new_state\n",
    "  step += 1\n",
    "  if step % 3 == 0:\n",
    "    fig, ax = plt.subplots(figsize=(12, 12))\n",
    "    ax.imshow(env.render(mode=\"rgb_array\"))\n",
    "    plt.axis(\"off\")\n",
    "    plt.title(\"Step:\" + str(step))\n",
    "    plt.show()\n",
    "    sleep(0.01)\n",
    "    clear_output(wait=True)"
   ]
  },
  {
   "cell_type": "markdown",
   "metadata": {
    "id": "zPoXrAFF3f1C"
   },
   "source": [
    "### Run the trained agent anywhere you want\n",
    "\n",
    "```python\n",
    "import gym, os\n",
    "from agents import Agent # save the agent's class and the replay buffer in a file called agents.py\n",
    "\n",
    "env = gym.make(\"MountainCar-v0\")\n",
    "\n",
    "if os.path.exists(\"MountainCar-v0.h5\"):\n",
    "    agent = Agent(state_size=env.observation_space.shape[0], hidden_units=[32, 32],\n",
    "                  action_size=env.action_space.n, to_train=False, epsilon = 0)\n",
    "    agent.load(\"MountainCar-v0.h5\")\n",
    "    \n",
    "agent.epsilon = 0  # deactivating exploration\n",
    "state = env.reset()\n",
    "done = False\n",
    "step = 0\n",
    "while not done:\n",
    "    env.render()\n",
    "    new_state,reward,done,_ = env.step(agent.act(state))\n",
    "    state = new_state\n",
    "```"
   ]
  },
  {
   "cell_type": "markdown",
   "metadata": {
    "id": "SXdPJEZHucGW"
   },
   "source": [
    "<font size=\"1px\"><a href=\"https://www.linkedin.com/in/fredamouzgar/\">Fred Amouzgar</a> - <a href=\"https://unitguides.mq.edu.au/unit_offerings/137445/unit_guide\">comp8220, 2021S1</a> - <a href=\"https://www.mq.edu.au/faculty-of-science-and-engineering/departments-and-schools/department-of-computing\">Department of Computing, Macquarie University</a></font>"
   ]
  }
 ],
 "metadata": {
  "accelerator": "GPU",
  "colab": {
   "collapsed_sections": [],
   "name": "DQN_Solutions2.ipynb",
   "provenance": [],
   "toc_visible": true
  },
  "kernelspec": {
   "display_name": "Python 3 (ipykernel)",
   "language": "python",
   "name": "python3"
  },
  "language_info": {
   "codemirror_mode": {
    "name": "ipython",
    "version": 3
   },
   "file_extension": ".py",
   "mimetype": "text/x-python",
   "name": "python",
   "nbconvert_exporter": "python",
   "pygments_lexer": "ipython3",
   "version": "3.11.7"
  }
 },
 "nbformat": 4,
 "nbformat_minor": 1
}
