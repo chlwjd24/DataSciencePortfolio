{
 "cells": [
  {
   "cell_type": "markdown",
   "metadata": {},
   "source": [
    "The goal this week is to pratice using Markdown to write descriptive text in notebooks and then look at Python data structures including the pandas module that supports data structures designed for handling the kind of data we'll be working with.  \n",
    "\n",
    "There is probably too much work to complete here in the workshop session, but please use this notebook after the workshop to practice your Python.  Remember to commit your changes to git as you go and push back to Github when you are done."
   ]
  },
  {
   "cell_type": "code",
   "execution_count": 6,
   "metadata": {},
   "outputs": [],
   "source": [
    "student_name = \"Brian Choi\"\n",
    "student_id = \"45359407\""
   ]
  },
  {
   "cell_type": "markdown",
   "metadata": {},
   "source": [
    "## Markdown Practice\n",
    "\n",
    "Complete this section as per the instructions in the iLearn practical page.  Add the required cells below this one."
   ]
  },
  {
   "cell_type": "markdown",
   "metadata": {},
   "source": [
    "## Lists and Dictionaries\n",
    "\n",
    "First we look at some built in Python data structures: lists and dictionaries. \n",
    "\n",
    "A list is a sequence of things, unlike strongly typed languages (Java, C#) a list can contain a mixture of different types - there is no type for a list of integers or a list of lists.   Here are some lists:"
   ]
  },
  {
   "cell_type": "code",
   "execution_count": 19,
   "metadata": {},
   "outputs": [],
   "source": [
    "ages = [12, 99, 51, 3, 55]\n",
    "names = ['steve', 'jim', 'mary', 'carrie', 'zin']\n",
    "stuff = [12, 'eighteen', 6, ['another', 'list']]"
   ]
  },
  {
   "cell_type": "markdown",
   "metadata": {},
   "source": [
    "1. write code to print the first and third elements of each list\n",
    "2. write code to select and print everything except the first element of each list\n",
    "3. write a for loop that prints each element of the 'names' list"
   ]
  },
  {
   "cell_type": "code",
   "execution_count": 20,
   "metadata": {},
   "outputs": [
    {
     "name": "stdout",
     "output_type": "stream",
     "text": [
      "12 51\n"
     ]
    }
   ],
   "source": [
    "print(ages[0], ages[2]) "
   ]
  },
  {
   "cell_type": "code",
   "execution_count": 21,
   "metadata": {},
   "outputs": [
    {
     "name": "stdout",
     "output_type": "stream",
     "text": [
      "['jim', 'mary', 'carrie', 'zin']\n"
     ]
    }
   ],
   "source": [
    "def printExceptFirst(mylist):\n",
    "    print(mylist[1:])\n",
    "    \n",
    "printExceptFirst(names)"
   ]
  },
  {
   "cell_type": "code",
   "execution_count": 22,
   "metadata": {},
   "outputs": [
    {
     "name": "stdout",
     "output_type": "stream",
     "text": [
      "steve\n",
      "jim\n",
      "mary\n",
      "carrie\n",
      "zin\n"
     ]
    }
   ],
   "source": [
    "for name in names:\n",
    "    print(name)"
   ]
  },
  {
   "cell_type": "markdown",
   "metadata": {},
   "source": [
    "A dictionary is an associative array - it associates a value (any Python data type) with a key. The key is usually a string but can be any immutable type (string, number, tuple).  Here's some code that counts the occurence of words in a string.  It stores the count for each word in a dictionary using the word as a key. If the word is already stored in the dictionary, it adds one to the count, if not, it initialises the count to one.  \n",
    "\n",
    "The second for loop iterates over the keys in the dictionary and prints one line per entry.\n",
    "\n",
    "Modify this example to be a bit smarter:\n",
    "- make sure that punctuation characters are not included as parts of a word, be careful with hyphens - should they be included or not?\n",
    "- make the count use the lowercase version of a word, so that 'The' and 'the' are counted as the same word\n",
    "- **Challenge**: find the first and second most frequent words in the text\n",
    "- **Challenge**: take your code and write it as a function that takes a string and returns a list of words with their counts in order"
   ]
  },
  {
   "cell_type": "code",
   "execution_count": 23,
   "metadata": {},
   "outputs": [
    {
     "name": "stdout",
     "output_type": "stream",
     "text": [
      "This 1\n",
      "unit 3\n",
      "introduces 1\n",
      "students 1\n",
      "to 4\n",
      "the 5\n",
      "fundamental 1\n",
      "techniques 1\n",
      "and 3\n",
      "tools 2\n",
      "of 3\n",
      "data 5\n",
      "science, 1\n",
      "such 1\n",
      "as 1\n",
      "graphical 1\n",
      "display 1\n",
      "data, 1\n",
      "predictive 1\n",
      "models, 1\n",
      "evaluation 1\n",
      "methodologies, 1\n",
      "regression, 1\n",
      "classification 1\n",
      "clustering. 1\n",
      "The 1\n",
      "provides 1\n",
      "practical 1\n",
      "experience 1\n",
      "applying 1\n",
      "these 2\n",
      "methods 3\n",
      "using 1\n",
      "industry-standard 1\n",
      "software 1\n",
      "real-world 2\n",
      "sets. 1\n",
      "Students 1\n",
      "who 1\n",
      "have 2\n",
      "completed 1\n",
      "this 1\n",
      "will 1\n",
      "be 1\n",
      "able 1\n",
      "identify 1\n",
      "which 1\n",
      "science 1\n",
      "are 1\n",
      "most 1\n",
      "appropriate 1\n",
      "for 1\n",
      "a 1\n",
      "set, 2\n",
      "apply 1\n",
      "interpret 1\n",
      "results 1\n",
      "analysis 1\n",
      "they 1\n",
      "performed. 1\n"
     ]
    }
   ],
   "source": [
    "description = \"\"\"This unit introduces students to the fundamental techniques and \n",
    "tools of data science, such as the graphical display of data, \n",
    "predictive models, evaluation methodologies, regression, \n",
    "classification and clustering. The unit provides practical \n",
    "experience applying these methods using industry-standard \n",
    "software tools to real-world data sets. Students who have \n",
    "completed this unit will be able to identify which data \n",
    "science methods are most appropriate for a real-world data \n",
    "set, apply these methods to the data set, and interpret the \n",
    "results of the analysis they have performed. \"\"\"\n",
    "\n",
    "count = dict()\n",
    "for word in description.split():\n",
    "    if word in count:\n",
    "        count[word] += 1\n",
    "    else:\n",
    "        count[word] = 1\n",
    "        \n",
    "for word in count:\n",
    "    print(word, count[word])"
   ]
  },
  {
   "cell_type": "code",
   "execution_count": 26,
   "metadata": {},
   "outputs": [
    {
     "name": "stdout",
     "output_type": "stream",
     "text": [
      "This unit introduces students to the fundamental techniques and \n",
      "tools of data science such as the graphical display of data \n",
      "predictive models evaluation methodologies regression \n",
      "classification and clustering The unit provides practical \n",
      "experience applying these methods using industry-standard \n",
      "software tools to real-world data sets Students who have \n",
      "completed this unit will be able to identify which data \n",
      "science methods are most appropriate for a real-world data \n",
      "set apply these methods to the data set and interpret the \n",
      "results of the analysis they have performed \n"
     ]
    }
   ],
   "source": [
    "import re\n",
    "desc = re.sub(r'[@,/.]', '', description)\n",
    "print(desc)"
   ]
  },
  {
   "cell_type": "code",
   "execution_count": 27,
   "metadata": {},
   "outputs": [
    {
     "name": "stdout",
     "output_type": "stream",
     "text": [
      "this unit introduces students to the fundamental techniques and \n",
      "tools of data science such as the graphical display of data \n",
      "predictive models evaluation methodologies regression \n",
      "classification and clustering the unit provides practical \n",
      "experience applying these methods using industry-standard \n",
      "software tools to real-world data sets students who have \n",
      "completed this unit will be able to identify which data \n",
      "science methods are most appropriate for a real-world data \n",
      "set apply these methods to the data set and interpret the \n",
      "results of the analysis they have performed \n"
     ]
    }
   ],
   "source": [
    "desc = desc.lower()\n",
    "print(desc)"
   ]
  },
  {
   "cell_type": "code",
   "execution_count": 28,
   "metadata": {},
   "outputs": [
    {
     "name": "stdout",
     "output_type": "stream",
     "text": [
      "this 2\n",
      "unit 3\n",
      "introduces 1\n",
      "students 2\n",
      "to 4\n",
      "the 6\n",
      "fundamental 1\n",
      "techniques 1\n",
      "and 3\n",
      "tools 2\n",
      "of 3\n",
      "data 6\n",
      "science 2\n",
      "such 1\n",
      "as 1\n",
      "graphical 1\n",
      "display 1\n",
      "predictive 1\n",
      "models 1\n",
      "evaluation 1\n",
      "methodologies 1\n",
      "regression 1\n",
      "classification 1\n",
      "clustering 1\n",
      "provides 1\n",
      "practical 1\n",
      "experience 1\n",
      "applying 1\n",
      "these 2\n",
      "methods 3\n",
      "using 1\n",
      "industry-standard 1\n",
      "software 1\n",
      "real-world 2\n",
      "sets 1\n",
      "who 1\n",
      "have 2\n",
      "completed 1\n",
      "will 1\n",
      "be 1\n",
      "able 1\n",
      "identify 1\n",
      "which 1\n",
      "are 1\n",
      "most 1\n",
      "appropriate 1\n",
      "for 1\n",
      "a 1\n",
      "set 2\n",
      "apply 1\n",
      "interpret 1\n",
      "results 1\n",
      "analysis 1\n",
      "they 1\n",
      "performed 1\n"
     ]
    }
   ],
   "source": [
    "count = dict()\n",
    "for word in desc.split():\n",
    "    if word in count:\n",
    "        count[word] += 1\n",
    "    else:\n",
    "        count[word] = 1\n",
    "        \n",
    "for word in count:\n",
    "    print(word, count[word])"
   ]
  },
  {
   "cell_type": "code",
   "execution_count": 30,
   "metadata": {},
   "outputs": [
    {
     "name": "stdout",
     "output_type": "stream",
     "text": [
      "Counter({'the': 6, 'data': 6, 'to': 4, 'unit': 3, 'and': 3, 'of': 3, 'methods': 3, 'this': 2, 'students': 2, 'tools': 2, 'science': 2, 'these': 2, 'real-world': 2, 'have': 2, 'set': 2, 'introduces': 1, 'fundamental': 1, 'techniques': 1, 'such': 1, 'as': 1, 'graphical': 1, 'display': 1, 'predictive': 1, 'models': 1, 'evaluation': 1, 'methodologies': 1, 'regression': 1, 'classification': 1, 'clustering': 1, 'provides': 1, 'practical': 1, 'experience': 1, 'applying': 1, 'using': 1, 'industry-standard': 1, 'software': 1, 'sets': 1, 'who': 1, 'completed': 1, 'will': 1, 'be': 1, 'able': 1, 'identify': 1, 'which': 1, 'are': 1, 'most': 1, 'appropriate': 1, 'for': 1, 'a': 1, 'apply': 1, 'interpret': 1, 'results': 1, 'analysis': 1, 'they': 1, 'performed': 1})\n"
     ]
    }
   ],
   "source": [
    "from collections import Counter, OrderedDict\n",
    "c = Counter(desc.split())\n",
    "print(c)"
   ]
  },
  {
   "cell_type": "code",
   "execution_count": 32,
   "metadata": {},
   "outputs": [
    {
     "name": "stdout",
     "output_type": "stream",
     "text": [
      "[('the', 6), ('data', 6), ('to', 4), ('unit', 3), ('and', 3)]\n"
     ]
    }
   ],
   "source": [
    "print(c.most_common(5))"
   ]
  },
  {
   "cell_type": "markdown",
   "metadata": {},
   "source": [
    "## Pandas Data Frames\n",
    "\n",
    "[Pandas](https://pandas.pydata.org) is a Python module that provides some important data structures for Data Science work and a large collection of methods for data analysis. \n",
    "\n",
    "The two main data structures are the [Series]() and [DataFrame](http://pandas.pydata.org/pandas-docs/stable/dsintro.html#dataframe).  \n",
    "\n",
    "A Series is a one dimensional array of data, but unlike the Python list the data is indexed - the index is like the dictionary key, any immutable value like a number or string.  You can use the label to select elements from the series as well as positional values.  \n",
    "\n",
    "A DataFrame is analogous to a spreadsheet - a two dimensional table of data with indexed rows and named columns. \n",
    "\n",
    "You should read up on these and follow the examples in the text.  Here are a few exercises to complete with data frames."
   ]
  },
  {
   "cell_type": "markdown",
   "metadata": {},
   "source": [
    "You are given three csv files containing sample data."
   ]
  },
  {
   "cell_type": "code",
   "execution_count": 34,
   "metadata": {},
   "outputs": [],
   "source": [
    "import pandas as pd\n",
    "import numpy as np\n",
    "import matplotlib.pyplot as plt\n",
    "%matplotlib inline\n",
    "\n",
    "ds1 = 'data/ds1.csv'\n",
    "ds2 = 'data/ds2.csv'\n",
    "ds3 = 'data/ds3.csv'"
   ]
  },
  {
   "cell_type": "markdown",
   "metadata": {},
   "source": [
    "Write code below to read one of these data files into a pandas data frame and:\n",
    "- show the first few rows: .head\n",
    "- find the summary data for each column: .describe\n",
    "- select just those rows where the value of x and y is over 50\n",
    "- select the column 'x' and create a series\n",
    "- plot the 'x' series as a line graph\n",
    "- plot the dataframe as a scatterplot\n",
    "\n",
    "Once you have the code for this, you can change the file you use for input of the data (ds2, ds3) and re-run the following cells to see the different output that is generated"
   ]
  },
  {
   "cell_type": "code",
   "execution_count": 35,
   "metadata": {},
   "outputs": [
    {
     "name": "stdout",
     "output_type": "stream",
     "text": [
      "           x        y\n",
      "0    55.3846  97.1795\n",
      "1    51.5385  96.0256\n",
      "2    46.1538  94.4872\n",
      "3    42.8205  91.4103\n",
      "4    40.7692  88.3333\n",
      "5    38.7179  84.8718\n",
      "6    35.6410  79.8718\n",
      "7    33.0769  77.5641\n",
      "8    28.9744  74.4872\n",
      "9    26.1538  71.4103\n",
      "10   23.0769  66.4103\n",
      "11   22.3077  61.7949\n",
      "12   22.3077  57.1795\n",
      "13   23.3333  52.9487\n",
      "14   25.8974  51.0256\n",
      "15   29.4872  51.0256\n",
      "16   32.8205  51.0256\n",
      "17   35.3846  51.4103\n",
      "18   40.2564  51.4103\n",
      "19   44.1026  52.9487\n",
      "20   46.6667  54.1026\n",
      "21   50.0000  55.2564\n",
      "22   53.0769  55.6410\n",
      "23   56.6667  56.0256\n",
      "24   59.2308  57.9487\n",
      "25   61.2821  62.1795\n",
      "26   61.5385  66.4103\n",
      "27   61.7949  69.1026\n",
      "28   57.4359  55.2564\n",
      "29   54.8718  49.8718\n",
      "..       ...      ...\n",
      "112  52.3077  18.3333\n",
      "113  49.7436  17.5641\n",
      "114  47.4359  16.0256\n",
      "115  44.8718  13.7180\n",
      "116  48.7179  14.8718\n",
      "117  51.2821  14.8718\n",
      "118  54.1026  14.8718\n",
      "119  56.1538  14.1026\n",
      "120  52.0513  12.5641\n",
      "121  48.7179  11.0256\n",
      "122  47.1795   9.8718\n",
      "123  46.1538   6.0256\n",
      "124  50.5128   9.4872\n",
      "125  53.8462  10.2564\n",
      "126  57.4359  10.2564\n",
      "127  60.0000  10.6410\n",
      "128  64.1026  10.6410\n",
      "129  66.9231  10.6410\n",
      "130  71.2821  10.6410\n",
      "131  74.3590  10.6410\n",
      "132  78.2051  10.6410\n",
      "133  67.9487   8.7180\n",
      "134  68.4615   5.2564\n",
      "135  68.2051   2.9487\n",
      "136  37.6923  25.7692\n",
      "137  39.4872  25.3846\n",
      "138  91.2821  41.5385\n",
      "139  50.0000  95.7692\n",
      "140  47.9487  95.0000\n",
      "141  44.1026  92.6923\n",
      "\n",
      "[142 rows x 2 columns]\n"
     ]
    }
   ],
   "source": [
    "df1 = pd.read_csv(ds1)\n",
    "print(df1)"
   ]
  },
  {
   "cell_type": "code",
   "execution_count": 39,
   "metadata": {},
   "outputs": [
    {
     "data": {
      "text/plain": [
       "(142, 2)"
      ]
     },
     "execution_count": 39,
     "metadata": {},
     "output_type": "execute_result"
    }
   ],
   "source": [
    "df1.shape"
   ]
  },
  {
   "cell_type": "code",
   "execution_count": 42,
   "metadata": {},
   "outputs": [
    {
     "data": {
      "text/html": [
       "<div>\n",
       "<style scoped>\n",
       "    .dataframe tbody tr th:only-of-type {\n",
       "        vertical-align: middle;\n",
       "    }\n",
       "\n",
       "    .dataframe tbody tr th {\n",
       "        vertical-align: top;\n",
       "    }\n",
       "\n",
       "    .dataframe thead th {\n",
       "        text-align: right;\n",
       "    }\n",
       "</style>\n",
       "<table border=\"1\" class=\"dataframe\">\n",
       "  <thead>\n",
       "    <tr style=\"text-align: right;\">\n",
       "      <th></th>\n",
       "      <th>x</th>\n",
       "      <th>y</th>\n",
       "    </tr>\n",
       "  </thead>\n",
       "  <tbody>\n",
       "    <tr>\n",
       "      <th>0</th>\n",
       "      <td>55.3846</td>\n",
       "      <td>97.1795</td>\n",
       "    </tr>\n",
       "    <tr>\n",
       "      <th>1</th>\n",
       "      <td>51.5385</td>\n",
       "      <td>96.0256</td>\n",
       "    </tr>\n",
       "    <tr>\n",
       "      <th>2</th>\n",
       "      <td>46.1538</td>\n",
       "      <td>94.4872</td>\n",
       "    </tr>\n",
       "    <tr>\n",
       "      <th>3</th>\n",
       "      <td>42.8205</td>\n",
       "      <td>91.4103</td>\n",
       "    </tr>\n",
       "    <tr>\n",
       "      <th>4</th>\n",
       "      <td>40.7692</td>\n",
       "      <td>88.3333</td>\n",
       "    </tr>\n",
       "  </tbody>\n",
       "</table>\n",
       "</div>"
      ],
      "text/plain": [
       "         x        y\n",
       "0  55.3846  97.1795\n",
       "1  51.5385  96.0256\n",
       "2  46.1538  94.4872\n",
       "3  42.8205  91.4103\n",
       "4  40.7692  88.3333"
      ]
     },
     "execution_count": 42,
     "metadata": {},
     "output_type": "execute_result"
    }
   ],
   "source": [
    "df1.head()"
   ]
  },
  {
   "cell_type": "code",
   "execution_count": 41,
   "metadata": {},
   "outputs": [
    {
     "data": {
      "text/html": [
       "<div>\n",
       "<style scoped>\n",
       "    .dataframe tbody tr th:only-of-type {\n",
       "        vertical-align: middle;\n",
       "    }\n",
       "\n",
       "    .dataframe tbody tr th {\n",
       "        vertical-align: top;\n",
       "    }\n",
       "\n",
       "    .dataframe thead th {\n",
       "        text-align: right;\n",
       "    }\n",
       "</style>\n",
       "<table border=\"1\" class=\"dataframe\">\n",
       "  <thead>\n",
       "    <tr style=\"text-align: right;\">\n",
       "      <th></th>\n",
       "      <th>x</th>\n",
       "      <th>y</th>\n",
       "    </tr>\n",
       "  </thead>\n",
       "  <tbody>\n",
       "    <tr>\n",
       "      <th>137</th>\n",
       "      <td>39.4872</td>\n",
       "      <td>25.3846</td>\n",
       "    </tr>\n",
       "    <tr>\n",
       "      <th>138</th>\n",
       "      <td>91.2821</td>\n",
       "      <td>41.5385</td>\n",
       "    </tr>\n",
       "    <tr>\n",
       "      <th>139</th>\n",
       "      <td>50.0000</td>\n",
       "      <td>95.7692</td>\n",
       "    </tr>\n",
       "    <tr>\n",
       "      <th>140</th>\n",
       "      <td>47.9487</td>\n",
       "      <td>95.0000</td>\n",
       "    </tr>\n",
       "    <tr>\n",
       "      <th>141</th>\n",
       "      <td>44.1026</td>\n",
       "      <td>92.6923</td>\n",
       "    </tr>\n",
       "  </tbody>\n",
       "</table>\n",
       "</div>"
      ],
      "text/plain": [
       "           x        y\n",
       "137  39.4872  25.3846\n",
       "138  91.2821  41.5385\n",
       "139  50.0000  95.7692\n",
       "140  47.9487  95.0000\n",
       "141  44.1026  92.6923"
      ]
     },
     "execution_count": 41,
     "metadata": {},
     "output_type": "execute_result"
    }
   ],
   "source": [
    "df1.tail()"
   ]
  },
  {
   "cell_type": "code",
   "execution_count": 43,
   "metadata": {},
   "outputs": [
    {
     "data": {
      "text/html": [
       "<div>\n",
       "<style scoped>\n",
       "    .dataframe tbody tr th:only-of-type {\n",
       "        vertical-align: middle;\n",
       "    }\n",
       "\n",
       "    .dataframe tbody tr th {\n",
       "        vertical-align: top;\n",
       "    }\n",
       "\n",
       "    .dataframe thead th {\n",
       "        text-align: right;\n",
       "    }\n",
       "</style>\n",
       "<table border=\"1\" class=\"dataframe\">\n",
       "  <thead>\n",
       "    <tr style=\"text-align: right;\">\n",
       "      <th></th>\n",
       "      <th>x</th>\n",
       "      <th>y</th>\n",
       "    </tr>\n",
       "  </thead>\n",
       "  <tbody>\n",
       "    <tr>\n",
       "      <th>count</th>\n",
       "      <td>142.000000</td>\n",
       "      <td>142.000000</td>\n",
       "    </tr>\n",
       "    <tr>\n",
       "      <th>mean</th>\n",
       "      <td>54.263273</td>\n",
       "      <td>47.832253</td>\n",
       "    </tr>\n",
       "    <tr>\n",
       "      <th>std</th>\n",
       "      <td>16.765142</td>\n",
       "      <td>26.935403</td>\n",
       "    </tr>\n",
       "    <tr>\n",
       "      <th>min</th>\n",
       "      <td>22.307700</td>\n",
       "      <td>2.948700</td>\n",
       "    </tr>\n",
       "    <tr>\n",
       "      <th>25%</th>\n",
       "      <td>44.102600</td>\n",
       "      <td>25.288450</td>\n",
       "    </tr>\n",
       "    <tr>\n",
       "      <th>50%</th>\n",
       "      <td>53.333300</td>\n",
       "      <td>46.025600</td>\n",
       "    </tr>\n",
       "    <tr>\n",
       "      <th>75%</th>\n",
       "      <td>64.743600</td>\n",
       "      <td>68.525675</td>\n",
       "    </tr>\n",
       "    <tr>\n",
       "      <th>max</th>\n",
       "      <td>98.205100</td>\n",
       "      <td>99.487200</td>\n",
       "    </tr>\n",
       "  </tbody>\n",
       "</table>\n",
       "</div>"
      ],
      "text/plain": [
       "                x           y\n",
       "count  142.000000  142.000000\n",
       "mean    54.263273   47.832253\n",
       "std     16.765142   26.935403\n",
       "min     22.307700    2.948700\n",
       "25%     44.102600   25.288450\n",
       "50%     53.333300   46.025600\n",
       "75%     64.743600   68.525675\n",
       "max     98.205100   99.487200"
      ]
     },
     "execution_count": 43,
     "metadata": {},
     "output_type": "execute_result"
    }
   ],
   "source": [
    "df1.describe()"
   ]
  },
  {
   "cell_type": "code",
   "execution_count": 44,
   "metadata": {},
   "outputs": [
    {
     "name": "stdout",
     "output_type": "stream",
     "text": [
      "          x        y\n",
      "0   55.3846  97.1795\n",
      "1   51.5385  96.0256\n",
      "22  53.0769  55.6410\n",
      "23  56.6667  56.0256\n",
      "24  59.2308  57.9487\n",
      "25  61.2821  62.1795\n",
      "26  61.5385  66.4103\n",
      "27  61.7949  69.1026\n",
      "28  57.4359  55.2564\n",
      "60  70.5128  53.7180\n",
      "61  71.5385  60.6410\n",
      "62  71.5385  64.4872\n",
      "63  69.4872  69.4872\n",
      "67  53.0769  85.2564\n",
      "68  55.3846  86.0256\n",
      "69  56.6667  86.0256\n",
      "70  56.1538  82.9487\n",
      "71  53.8462  80.6410\n",
      "72  51.2821  78.7180\n",
      "78  57.9487  99.4872\n",
      "79  61.7949  99.1026\n",
      "80  64.8718  97.5641\n",
      "81  68.4615  94.1026\n",
      "82  70.7692  91.0256\n",
      "83  72.0513  86.4103\n",
      "84  73.8462  83.3333\n",
      "85  75.1282  79.1026\n",
      "86  76.6667  75.2564\n",
      "87  77.6923  71.4103\n",
      "88  79.7436  66.7949\n",
      "89  81.7949  60.2564\n",
      "90  83.3333  55.2564\n",
      "91  85.1282  51.4103\n"
     ]
    }
   ],
   "source": [
    "x50 = df1['x']>50\n",
    "y50 = df1['y']>50\n",
    "new_df = df1[x50 & y50]\n",
    "print(new_df)"
   ]
  },
  {
   "cell_type": "code",
   "execution_count": 46,
   "metadata": {},
   "outputs": [
    {
     "data": {
      "text/plain": [
       "(33, 2)"
      ]
     },
     "execution_count": 46,
     "metadata": {},
     "output_type": "execute_result"
    }
   ],
   "source": [
    "new_df.shape"
   ]
  },
  {
   "cell_type": "code",
   "execution_count": 49,
   "metadata": {},
   "outputs": [
    {
     "name": "stdout",
     "output_type": "stream",
     "text": [
      "0      55.3846\n",
      "1      51.5385\n",
      "2      46.1538\n",
      "3      42.8205\n",
      "4      40.7692\n",
      "5      38.7179\n",
      "6      35.6410\n",
      "7      33.0769\n",
      "8      28.9744\n",
      "9      26.1538\n",
      "10     23.0769\n",
      "11     22.3077\n",
      "12     22.3077\n",
      "13     23.3333\n",
      "14     25.8974\n",
      "15     29.4872\n",
      "16     32.8205\n",
      "17     35.3846\n",
      "18     40.2564\n",
      "19     44.1026\n",
      "20     46.6667\n",
      "21     50.0000\n",
      "22     53.0769\n",
      "23     56.6667\n",
      "24     59.2308\n",
      "25     61.2821\n",
      "26     61.5385\n",
      "27     61.7949\n",
      "28     57.4359\n",
      "29     54.8718\n",
      "        ...   \n",
      "112    52.3077\n",
      "113    49.7436\n",
      "114    47.4359\n",
      "115    44.8718\n",
      "116    48.7179\n",
      "117    51.2821\n",
      "118    54.1026\n",
      "119    56.1538\n",
      "120    52.0513\n",
      "121    48.7179\n",
      "122    47.1795\n",
      "123    46.1538\n",
      "124    50.5128\n",
      "125    53.8462\n",
      "126    57.4359\n",
      "127    60.0000\n",
      "128    64.1026\n",
      "129    66.9231\n",
      "130    71.2821\n",
      "131    74.3590\n",
      "132    78.2051\n",
      "133    67.9487\n",
      "134    68.4615\n",
      "135    68.2051\n",
      "136    37.6923\n",
      "137    39.4872\n",
      "138    91.2821\n",
      "139    50.0000\n",
      "140    47.9487\n",
      "141    44.1026\n",
      "Name: x, Length: 142, dtype: float64\n"
     ]
    }
   ],
   "source": [
    "first_colm = df1['x']\n",
    "print(first_colm)"
   ]
  },
  {
   "cell_type": "code",
   "execution_count": 50,
   "metadata": {},
   "outputs": [
    {
     "data": {
      "text/plain": [
       "<matplotlib.axes._subplots.AxesSubplot at 0x1770df5eba8>"
      ]
     },
     "execution_count": 50,
     "metadata": {},
     "output_type": "execute_result"
    },
    {
     "data": {
      "image/png": "[encoded data removed]",
      "text/plain": [
       "<Figure size 432x288 with 1 Axes>"
      ]
     },
     "metadata": {
      "needs_background": "light"
     },
     "output_type": "display_data"
    }
   ],
   "source": [
    "first_colm.plot()"
   ]
  },
  {
   "cell_type": "code",
   "execution_count": 56,
   "metadata": {},
   "outputs": [
    {
     "data": {
      "text/plain": [
       "<matplotlib.axes._subplots.AxesSubplot at 0x1770e27fa90>"
      ]
     },
     "execution_count": 56,
     "metadata": {},
     "output_type": "execute_result"
    },
    {
     "data": {
      "image/png": "[encoded data removed]",
      "text/plain": [
       "<Figure size 432x288 with 1 Axes>"
      ]
     },
     "metadata": {
      "needs_background": "light"
     },
     "output_type": "display_data"
    }
   ],
   "source": [
    "df1.plot.scatter(x='x', y='y', c='DarkBlue')"
   ]
  },
  {
   "cell_type": "code",
   "execution_count": 57,
   "metadata": {},
   "outputs": [
    {
     "name": "stdout",
     "output_type": "stream",
     "text": [
      "0      32.331110\n",
      "1      53.421463\n",
      "2      63.920202\n",
      "3      70.289506\n",
      "4      34.118830\n",
      "5      67.670716\n",
      "6      53.259129\n",
      "7      63.514981\n",
      "8      67.980539\n",
      "9      67.372466\n",
      "10     15.560750\n",
      "11     71.790768\n",
      "12     70.242546\n",
      "13     64.937436\n",
      "14     62.213525\n",
      "15     67.269400\n",
      "16     40.570197\n",
      "17     74.741181\n",
      "18     71.768319\n",
      "19     76.166920\n",
      "20     65.623657\n",
      "21     50.850634\n",
      "22     33.024070\n",
      "23     39.706326\n",
      "24     45.596485\n",
      "25     42.968047\n",
      "26     52.494407\n",
      "27     46.082276\n",
      "28     74.247708\n",
      "29     64.568264\n",
      "         ...    \n",
      "112    50.583963\n",
      "113    61.856465\n",
      "114    39.323756\n",
      "115    42.185679\n",
      "116    30.846919\n",
      "117    29.346200\n",
      "118    82.110558\n",
      "119    38.302006\n",
      "120    56.584153\n",
      "121    33.339374\n",
      "122    78.774239\n",
      "123    27.922644\n",
      "124    71.697865\n",
      "125    74.138331\n",
      "126    32.579020\n",
      "127    59.832185\n",
      "128    35.030629\n",
      "129    74.300120\n",
      "130    63.250197\n",
      "131    34.173074\n",
      "132    40.913832\n",
      "133    62.833293\n",
      "134    42.476792\n",
      "135    52.033456\n",
      "136    48.907043\n",
      "137    59.851838\n",
      "138    48.960460\n",
      "139    46.844855\n",
      "140    39.963022\n",
      "141    66.704944\n",
      "Name: x, Length: 142, dtype: float64\n"
     ]
    },
    {
     "data": {
      "text/plain": [
       "<matplotlib.axes._subplots.AxesSubplot at 0x1770e434668>"
      ]
     },
     "execution_count": 57,
     "metadata": {},
     "output_type": "execute_result"
    },
    {
     "data": {
      "image/png": "[encoded data removed]",
      "text/plain": [
       "<Figure size 432x288 with 1 Axes>"
      ]
     },
     "metadata": {
      "needs_background": "light"
     },
     "output_type": "display_data"
    },
    {
     "data": {
      "image/png": "[encoded data removed]",
      "text/plain": [
       "<Figure size 432x288 with 1 Axes>"
      ]
     },
     "metadata": {
      "needs_background": "light"
     },
     "output_type": "display_data"
    }
   ],
   "source": [
    "df2 = pd.read_csv(ds2)\n",
    "df2.head()\n",
    "df2.describe()\n",
    "x50 = df2['x']>50\n",
    "y50 = df2['y']>50\n",
    "new_df = df2[x50 & y50]\n",
    "first_colm = df2['x']\n",
    "print(first_colm)\n",
    "first_colm.plot()\n",
    "df2.plot.scatter(x='x', y='y', c='DarkBlue')"
   ]
  },
  {
   "cell_type": "code",
   "execution_count": 59,
   "metadata": {},
   "outputs": [
    {
     "name": "stdout",
     "output_type": "stream",
     "text": [
      "0      58.213608\n",
      "1      58.196054\n",
      "2      58.718231\n",
      "3      57.278373\n",
      "4      58.082020\n",
      "5      57.489448\n",
      "6      28.088741\n",
      "7      28.085468\n",
      "8      28.087273\n",
      "9      27.578025\n",
      "10     27.779919\n",
      "11     28.589000\n",
      "12     28.739141\n",
      "13     27.024603\n",
      "14     28.801337\n",
      "15     27.186464\n",
      "16     29.285147\n",
      "17     39.402945\n",
      "18     28.811328\n",
      "19     34.303958\n",
      "20     29.602761\n",
      "21     49.116157\n",
      "22     39.617546\n",
      "23     43.233085\n",
      "24     64.892788\n",
      "25     62.490149\n",
      "26     68.988084\n",
      "27     62.105619\n",
      "28     32.461847\n",
      "29     41.327201\n",
      "         ...    \n",
      "112    42.476540\n",
      "113    43.595116\n",
      "114    50.339970\n",
      "115    40.748980\n",
      "116    38.386526\n",
      "117    38.404015\n",
      "118    38.764279\n",
      "119    41.470142\n",
      "120    47.155405\n",
      "121    39.582567\n",
      "122    41.740244\n",
      "123    39.311872\n",
      "124    41.679848\n",
      "125    39.087464\n",
      "126    41.481503\n",
      "127    77.606087\n",
      "128    75.982662\n",
      "129    76.945757\n",
      "130    77.543720\n",
      "131    77.584740\n",
      "132    76.822304\n",
      "133    77.348572\n",
      "134    77.573153\n",
      "135    77.972611\n",
      "136    41.528920\n",
      "137    43.722551\n",
      "138    79.326078\n",
      "139    56.663974\n",
      "140    57.821789\n",
      "141    58.243172\n",
      "Name: x, Length: 142, dtype: float64\n"
     ]
    },
    {
     "data": {
      "text/plain": [
       "<matplotlib.axes._subplots.AxesSubplot at 0x1770f582898>"
      ]
     },
     "execution_count": 59,
     "metadata": {},
     "output_type": "execute_result"
    },
    {
     "data": {
      "image/png": "[encoded data removed]",
      "text/plain": [
       "<Figure size 432x288 with 1 Axes>"
      ]
     },
     "metadata": {
      "needs_background": "light"
     },
     "output_type": "display_data"
    },
    {
     "data": {
      "image/png": "[encoded data removed]",
      "text/plain": [
       "<Figure size 432x288 with 1 Axes>"
      ]
     },
     "metadata": {
      "needs_background": "light"
     },
     "output_type": "display_data"
    }
   ],
   "source": [
    "df3 = pd.read_csv(ds3)\n",
    "df3.head()\n",
    "df3.describe()\n",
    "x50 = df3['x']>50\n",
    "y50 = df3['y']>50\n",
    "new_df = df3[x50 & y50]\n",
    "first_colm = df3['x']\n",
    "print(first_colm)\n",
    "first_colm.plot()\n",
    "df3.plot.scatter(x='x', y='y', c='DarkBlue')"
   ]
  },
  {
   "cell_type": "code",
   "execution_count": null,
   "metadata": {},
   "outputs": [],
   "source": [
    "ds4 = 'data/educ_figdp_1_Data.csv'\n",
    "ds4 = pd.read_csv(ds4)\n",
    "ds4.plot()"
   ]
  },
  {
   "cell_type": "markdown",
   "metadata": {},
   "source": [
    "# Further Practice\n",
    "\n",
    "If you finish this task you can practice more with pandas data frames by following the examples in the text, section 2.6.  The CSV file that they use in that section is available in the `files` directory of this repository as `educ_figdp_1_Data.csv`.   "
   ]
  },
  {
   "cell_type": "code",
   "execution_count": null,
   "metadata": {},
   "outputs": [],
   "source": [
    "edufile = 'files/educ_figdp_1_Data.csv'"
   ]
  }
 ],
 "metadata": {
  "kernelspec": {
   "display_name": "Python 3",
   "language": "python",
   "name": "python3"
  },
  "language_info": {
   "codemirror_mode": {
    "name": "ipython",
    "version": 3
   },
   "file_extension": ".py",
   "mimetype": "text/x-python",
   "name": "python",
   "nbconvert_exporter": "python",
   "pygments_lexer": "ipython3",
   "version": "3.7.3"
  }
 },
 "nbformat": 4,
 "nbformat_minor": 2
}
