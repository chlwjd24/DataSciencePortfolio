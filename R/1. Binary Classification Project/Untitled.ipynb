{
 "cells": [
  {
   "cell_type": "code",
   "execution_count": 31,
   "id": "e69bb147",
   "metadata": {
    "scrolled": true
   },
   "outputs": [],
   "source": [
    "import numpy as np\n",
    "import matplotlib.pyplot as plt\n",
    "plt.style.use(\"seaborn\")\n",
    "\n",
    "def sigmoid(x):\n",
    "    return 1/(1 + np.exp(-x))\n",
    "\n",
    "def make_prediction(w, x, classify=False):\n",
    "    z = sigmoid(np.dot(w, x))\n",
    "    if classify:\n",
    "        return int(z > 0.5)\n",
    "    else:\n",
    "        return z\n",
    "def cross_entropy(y_true, y_pred):\n",
    "    data_num = len(y_true)\n",
    "    y_true, y_pred = np.array(y_true), np.array(y_pred)\n",
    "    total = - np.sum(np.multiply(y_true, np.log(y_pred)) + np.multiply((1 - y_true), np.log(1 - y_pred)))\n",
    "    return total / data_num\n",
    "def gradient_descent(alpha, epoch, weight, X, y, threshold, print_option=True, get_cost=False):\n",
    "    y_pred = np.array([make_prediction(weight, x) for x in X])\n",
    "    data_num = len(y)\n",
    "    cost = []\n",
    "    for i in range(epoch):\n",
    "        dw = np.dot((y_pred - y), X) / data_num\n",
    "        weight = weight - alpha * dw\n",
    "        y_pred = np.array([make_prediction(weight, x) for x in X])\n",
    "        new_cost = cross_entropy(y, y_pred)\n",
    "        cost.append(new_cost)\n",
    "        if print_option and i%50==0: print(\"Iteration {0}, Cost: {1}\".format(i, new_cost))\n",
    "        if i > 3 and cost[-2] - cost[-1] < threshold:\n",
    "            break\n",
    "    if get_cost:\n",
    "        return cost\n",
    "    else:\n",
    "        return weight\n",
    "    \n",
    "def logistic_regression(training_set, label, test_set, alpha, epoch, threshold=0.0001, print_option=False, get_cost=False):\n",
    "    weight = np.random.rand(len(training_set[0]))\n",
    "    if get_cost:\n",
    "        cost = gradient_descent(alpha, epoch, weight, training_set, label, threshold, print_option, get_cost)\n",
    "        return cost\n",
    "    else:\n",
    "        new_weight = gradient_descent(alpha, epoch, weight, training_set, label, threshold, print_option)\n",
    "        prediction = [make_prediction(new_weight, instance, classify=True) for instance in test_set]\n",
    "        return np.array(prediction)\n",
    "    \n",
    "def accuracy_score(y_true, y_pred):\n",
    "    count = 0\n",
    "    for true, pred in zip(y_true, y_pred):\n",
    "        if true == pred:\n",
    "            count += 1\n",
    "    return count/len(y_true)\n",
    "def plot_accuracy(alpha, epoch):\n",
    "    accuracy = []\n",
    "    iter_range = range(epoch)\n",
    "    for iter_num in iter_range:\n",
    "        y_hat = logistic_regression(X_train, y_train, X_test, alpha, iter_num)\n",
    "        accuracy.append(accuracy_score(y_hat, y_test))\n",
    "    plt.plot(iter_range, accuracy, color=\"skyblue\")\n",
    "    plt.xlabel(\"Epochs\"); plt.ylabel(\"Accuracy\")\n",
    "    plt.show()\n"
   ]
  },
  {
   "cell_type": "code",
   "execution_count": null,
   "id": "74722de3",
   "metadata": {},
   "outputs": [],
   "source": []
  }
 ],
 "metadata": {
  "kernelspec": {
   "display_name": "Python 3",
   "language": "python",
   "name": "python3"
  },
  "language_info": {
   "codemirror_mode": {
    "name": "ipython",
    "version": 3
   },
   "file_extension": ".py",
   "mimetype": "text/x-python",
   "name": "python",
   "nbconvert_exporter": "python",
   "pygments_lexer": "ipython3",
   "version": "3.8.3"
  }
 },
 "nbformat": 4,
 "nbformat_minor": 5
}
